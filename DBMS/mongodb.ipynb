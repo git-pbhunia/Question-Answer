{
 "cells": [
  {
   "cell_type": "code",
   "execution_count": 2,
   "id": "8a42b0a9",
   "metadata": {},
   "outputs": [
    {
     "name": "stdout",
     "output_type": "stream",
     "text": [
      "Collecting pymongo\n",
      "  Downloading pymongo-4.3.3-cp38-cp38-win_amd64.whl (382 kB)\n",
      "     ------------------------------------- 382.3/382.3 kB 15.2 kB/s eta 0:00:00\n",
      "Collecting dnspython<3.0.0,>=1.16.0\n",
      "  Downloading dnspython-2.3.0-py3-none-any.whl (283 kB)\n",
      "     ------------------------------------- 283.7/283.7 kB 14.5 kB/s eta 0:00:00\n",
      "Installing collected packages: dnspython, pymongo\n",
      "Successfully installed dnspython-2.3.0 pymongo-4.3.3\n",
      "Note: you may need to restart the kernel to use updated packages.\n"
     ]
    }
   ],
   "source": [
    "pip install pymongo"
   ]
  },
  {
   "cell_type": "code",
   "execution_count": 4,
   "id": "fe83bf6a",
   "metadata": {},
   "outputs": [],
   "source": [
    "import pymongo\n",
    "\n",
    "client = pymongo.MongoClient(\"mongodb://localhost:27017\")\n"
   ]
  },
  {
   "cell_type": "code",
   "execution_count": 7,
   "id": "12fa2ee9",
   "metadata": {},
   "outputs": [
    {
     "data": {
      "text/plain": [
       "Database(MongoClient(host=['localhost:27017'], document_class=dict, tz_aware=False, connect=True), 'test')"
      ]
     },
     "execution_count": 7,
     "metadata": {},
     "output_type": "execute_result"
    }
   ],
   "source": [
    "client.test"
   ]
  },
  {
   "cell_type": "code",
   "execution_count": 8,
   "id": "99a34d20",
   "metadata": {},
   "outputs": [],
   "source": [
    "db = client[\"my_db\"]"
   ]
  },
  {
   "cell_type": "code",
   "execution_count": 9,
   "id": "167315d8",
   "metadata": {},
   "outputs": [
    {
     "data": {
      "text/plain": [
       "Database(MongoClient(host=['localhost:27017'], document_class=dict, tz_aware=False, connect=True), 'my_db')"
      ]
     },
     "execution_count": 9,
     "metadata": {},
     "output_type": "execute_result"
    }
   ],
   "source": [
    "db"
   ]
  },
  {
   "cell_type": "code",
   "execution_count": 10,
   "id": "a6902319",
   "metadata": {},
   "outputs": [],
   "source": [
    "coll = db[\"my_coll\"]"
   ]
  },
  {
   "cell_type": "code",
   "execution_count": 24,
   "id": "76e7135d",
   "metadata": {},
   "outputs": [
    {
     "data": {
      "text/plain": [
       "<pymongo.results.InsertOneResult at 0x1f28eeb2610>"
      ]
     },
     "execution_count": 24,
     "metadata": {},
     "output_type": "execute_result"
    }
   ],
   "source": [
    "data = {\"id\":123, \"name\":\"data1\"}\n",
    "coll.insert_one(data)"
   ]
  },
  {
   "cell_type": "code",
   "execution_count": 25,
   "id": "30751016",
   "metadata": {},
   "outputs": [
    {
     "data": {
      "text/plain": [
       "<pymongo.results.InsertManyResult at 0x1f28efd3b80>"
      ]
     },
     "execution_count": 25,
     "metadata": {},
     "output_type": "execute_result"
    }
   ],
   "source": [
    "data1 = [{\"id\":123, \"name\":\"data2\"},\n",
    "       {\"id\":123, \"name\":\"data3\"},\n",
    "       {\"id\":123, \"name\":\"data4\"},\n",
    "       {\"id\":123, \"name\":\"data5\"}]\n",
    "\n",
    "coll.insert_many(data1)"
   ]
  },
  {
   "cell_type": "code",
   "execution_count": 26,
   "id": "873a5ed2",
   "metadata": {},
   "outputs": [
    {
     "name": "stdout",
     "output_type": "stream",
     "text": [
      "{'_id': ObjectId('63ef9e0e630ac29971301ce4'), 'id': 123, 'name': 'data1'}\n",
      "{'_id': ObjectId('63efa0e6630ac29971301ce5'), 'id': 123, 'name': 'data1'}\n",
      "{'_id': ObjectId('63efa0e6630ac29971301ce6'), 'id': 123, 'name': 'data1'}\n",
      "{'_id': ObjectId('63efa0e6630ac29971301ce7'), 'id': 123, 'name': 'data1'}\n",
      "{'_id': ObjectId('63efa0e6630ac29971301ce8'), 'id': 123, 'name': 'data1'}\n",
      "{'_id': ObjectId('63efa190630ac29971301ce9'), 'id': 123, 'name1': 'data1'}\n",
      "{'_id': ObjectId('63efa191630ac29971301cea'), 'id': 123, 'name2': 'data2'}\n",
      "{'_id': ObjectId('63efa191630ac29971301ceb'), 'id': 123, 'name3': 'data3'}\n",
      "{'_id': ObjectId('63efa191630ac29971301cec'), 'id': 123, 'name4': 'data4'}\n",
      "{'_id': ObjectId('63efa191630ac29971301ced'), 'id': 123, 'name5': 'data5'}\n",
      "{'_id': ObjectId('63efa1c9630ac29971301cee'), 'id': 123, 'name': 'data1'}\n",
      "{'_id': ObjectId('63efa1ca630ac29971301cef'), 'id': 123, 'name': 'data2'}\n",
      "{'_id': ObjectId('63efa1ca630ac29971301cf0'), 'id': 123, 'name': 'data3'}\n",
      "{'_id': ObjectId('63efa1ca630ac29971301cf1'), 'id': 123, 'name': 'data4'}\n",
      "{'_id': ObjectId('63efa1ca630ac29971301cf2'), 'id': 123, 'name': 'data5'}\n"
     ]
    }
   ],
   "source": [
    "for i in coll.find():\n",
    "    print(i)"
   ]
  },
  {
   "cell_type": "code",
   "execution_count": 29,
   "id": "127142f7",
   "metadata": {},
   "outputs": [
    {
     "name": "stdout",
     "output_type": "stream",
     "text": [
      "{'_id': ObjectId('63ef9e0e630ac29971301ce4'), 'id': 123, 'name': 'data1'}\n",
      "{'_id': ObjectId('63efa0e6630ac29971301ce5'), 'id': 123, 'name': 'data1'}\n",
      "{'_id': ObjectId('63efa0e6630ac29971301ce6'), 'id': 123, 'name': 'data1'}\n",
      "{'_id': ObjectId('63efa0e6630ac29971301ce7'), 'id': 123, 'name': 'data1'}\n",
      "{'_id': ObjectId('63efa0e6630ac29971301ce8'), 'id': 123, 'name': 'data1'}\n",
      "{'_id': ObjectId('63efa1c9630ac29971301cee'), 'id': 123, 'name': 'data1'}\n"
     ]
    }
   ],
   "source": [
    "for i in coll.find({\"name\":\"data1\"}):\n",
    "    print(i)"
   ]
  },
  {
   "cell_type": "code",
   "execution_count": 31,
   "id": "ef578a14",
   "metadata": {},
   "outputs": [
    {
     "name": "stdout",
     "output_type": "stream",
     "text": [
      "{'_id': ObjectId('63ef9e0e630ac29971301ce4'), 'id': 123, 'name': 'data1'}\n",
      "{'_id': ObjectId('63efa0e6630ac29971301ce5'), 'id': 123, 'name': 'data1'}\n",
      "{'_id': ObjectId('63efa0e6630ac29971301ce6'), 'id': 123, 'name': 'data1'}\n",
      "{'_id': ObjectId('63efa0e6630ac29971301ce7'), 'id': 123, 'name': 'data1'}\n",
      "{'_id': ObjectId('63efa0e6630ac29971301ce8'), 'id': 123, 'name': 'data1'}\n",
      "{'_id': ObjectId('63efa190630ac29971301ce9'), 'id': 123, 'name1': 'data1'}\n",
      "{'_id': ObjectId('63efa191630ac29971301cea'), 'id': 123, 'name2': 'data2'}\n",
      "{'_id': ObjectId('63efa191630ac29971301ceb'), 'id': 123, 'name3': 'data3'}\n",
      "{'_id': ObjectId('63efa191630ac29971301cec'), 'id': 123, 'name4': 'data4'}\n",
      "{'_id': ObjectId('63efa191630ac29971301ced'), 'id': 123, 'name5': 'data5'}\n",
      "{'_id': ObjectId('63efa1c9630ac29971301cee'), 'id': 123, 'name': 'data1'}\n",
      "{'_id': ObjectId('63efa1ca630ac29971301cef'), 'id': 123, 'name': 'data2'}\n",
      "{'_id': ObjectId('63efa1ca630ac29971301cf0'), 'id': 123, 'name': 'data3'}\n",
      "{'_id': ObjectId('63efa1ca630ac29971301cf1'), 'id': 123, 'name': 'data4'}\n",
      "{'_id': ObjectId('63efa1ca630ac29971301cf2'), 'id': 123, 'name': 'data5'}\n"
     ]
    }
   ],
   "source": [
    "for i in coll.find({\"id\":{\"$gte\":100}}):\n",
    "    print(i)"
   ]
  },
  {
   "cell_type": "code",
   "execution_count": 32,
   "id": "e9b8c880",
   "metadata": {},
   "outputs": [
    {
     "data": {
      "text/plain": [
       "<pymongo.results.UpdateResult at 0x1f28efd3970>"
      ]
     },
     "execution_count": 32,
     "metadata": {},
     "output_type": "execute_result"
    }
   ],
   "source": [
    "coll.update_many({\"id\":123},{\"$set\":{\"id\":111}})"
   ]
  },
  {
   "cell_type": "code",
   "execution_count": 34,
   "id": "31ce3474",
   "metadata": {},
   "outputs": [
    {
     "name": "stdout",
     "output_type": "stream",
     "text": [
      "{'_id': ObjectId('63ef9e0e630ac29971301ce4'), 'id': 111, 'name': 'data1'}\n",
      "{'_id': ObjectId('63efa0e6630ac29971301ce5'), 'id': 111, 'name': 'data1'}\n",
      "{'_id': ObjectId('63efa0e6630ac29971301ce6'), 'id': 111, 'name': 'data1'}\n",
      "{'_id': ObjectId('63efa0e6630ac29971301ce7'), 'id': 111, 'name': 'data1'}\n",
      "{'_id': ObjectId('63efa0e6630ac29971301ce8'), 'id': 111, 'name': 'data1'}\n",
      "{'_id': ObjectId('63efa190630ac29971301ce9'), 'id': 111, 'name1': 'data1'}\n",
      "{'_id': ObjectId('63efa191630ac29971301cea'), 'id': 111, 'name2': 'data2'}\n",
      "{'_id': ObjectId('63efa191630ac29971301ceb'), 'id': 111, 'name3': 'data3'}\n",
      "{'_id': ObjectId('63efa191630ac29971301cec'), 'id': 111, 'name4': 'data4'}\n",
      "{'_id': ObjectId('63efa191630ac29971301ced'), 'id': 111, 'name5': 'data5'}\n",
      "{'_id': ObjectId('63efa1c9630ac29971301cee'), 'id': 111, 'name': 'data1'}\n",
      "{'_id': ObjectId('63efa1ca630ac29971301cef'), 'id': 111, 'name': 'data2'}\n",
      "{'_id': ObjectId('63efa1ca630ac29971301cf0'), 'id': 111, 'name': 'data3'}\n",
      "{'_id': ObjectId('63efa1ca630ac29971301cf1'), 'id': 111, 'name': 'data4'}\n",
      "{'_id': ObjectId('63efa1ca630ac29971301cf2'), 'id': 111, 'name': 'data5'}\n"
     ]
    }
   ],
   "source": [
    "for i in coll.find():\n",
    "    print(i)"
   ]
  },
  {
   "cell_type": "code",
   "execution_count": 35,
   "id": "d5d4d595",
   "metadata": {},
   "outputs": [],
   "source": [
    "coll.drop()"
   ]
  },
  {
   "cell_type": "code",
   "execution_count": 36,
   "id": "f6ac23cf",
   "metadata": {},
   "outputs": [],
   "source": [
    "for i in coll.find():\n",
    "    print(i)"
   ]
  },
  {
   "cell_type": "code",
   "execution_count": null,
   "id": "7e90abce",
   "metadata": {},
   "outputs": [],
   "source": []
  }
 ],
 "metadata": {
  "kernelspec": {
   "display_name": "Python 3",
   "language": "python",
   "name": "python3"
  },
  "language_info": {
   "codemirror_mode": {
    "name": "ipython",
    "version": 3
   },
   "file_extension": ".py",
   "mimetype": "text/x-python",
   "name": "python",
   "nbconvert_exporter": "python",
   "pygments_lexer": "ipython3",
   "version": "3.8.8"
  }
 },
 "nbformat": 4,
 "nbformat_minor": 5
}
