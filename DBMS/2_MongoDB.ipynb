{
 "cells": [
  {
   "cell_type": "markdown",
   "id": "e4300569",
   "metadata": {},
   "source": [
    "#### Q1. What is MongoDB? Explain non-relational databases in short. In which scenarios it is preferred to use MongoDB over SQL databases?"
   ]
  },
  {
   "cell_type": "markdown",
   "id": "649568dc",
   "metadata": {},
   "source": [
    "MongoDB is a popular open-source document-oriented NoSQL database that uses a flexible JSON-like data model, which allows for efficient and scalable storage and retrieval of data. In MongoDB, data is stored in documents, which are self-contained data structures that can have varying schemas and be nested within each other.\n",
    "\n",
    "Non-relational databases, also known as NoSQL databases, are databases that do not use the traditional tabular structure of relational databases. Instead, they use various data models, such as document-oriented, key-value, graph, and column-family, to store and organize data.\n",
    "\n",
    "Non-relational databases are preferred in scenarios where there is a need for flexibility, scalability, and high performance. This is because non-relational databases can handle large amounts of unstructured or semi-structured data more efficiently than relational databases, and can be scaled horizontally across multiple servers."
   ]
  },
  {
   "cell_type": "markdown",
   "id": "2de33836",
   "metadata": {},
   "source": [
    "#### Q2. State and Explain the features of MongoDB."
   ]
  },
  {
   "cell_type": "markdown",
   "id": "24570efc",
   "metadata": {},
   "source": [
    "MongoDB is a popular NoSQL database that offers a range of features to make it an attractive choice for many applications. Some of the key features of MongoDB are:\n",
    "\n",
    " * Document-oriented data model: MongoDB stores data in a document-oriented data model that allows for flexible and dynamic data structures. Each document is self-contained, and can include nested documents and arrays.\n",
    "\n",
    " * Scalability: MongoDB can scale horizontally across multiple servers, allowing it to handle large volumes of data and high levels of traffic.\n",
    "\n",
    " * Aggregation framework: MongoDB provides a powerful aggregation framework that enables complex data analysis and manipulation. The framework includes a range of operators and functions for grouping, filtering, sorting, and transforming data.\n",
    "\n",
    " * Replication: MongoDB provides built-in replication, which allows data to be replicated across multiple servers for improved availability and performance. Replication can be configured for automatic failover in the event of a server failure."
   ]
  },
  {
   "cell_type": "markdown",
   "id": "1c9c4824",
   "metadata": {},
   "source": [
    "#### Q3. Write a code to connect MongoDB to Python. Also, create a database and a collection in MongoDB."
   ]
  },
  {
   "cell_type": "code",
   "execution_count": null,
   "id": "a15dd9e7",
   "metadata": {},
   "outputs": [],
   "source": [
    "# Import the PyMongo library\n",
    "import pymongo\n",
    "\n",
    "# Connect to MongoDB\n",
    "client = pymongo.MongoClient(\"mongodb://localhost:27017/\")\n",
    "\n",
    "# Create a database called \"mydatabase\"\n",
    "db = client[\"mydatabase\"]\n",
    "\n",
    "# Create a collection called \"customers\"\n",
    "col = db[\"customers\"]\n",
    "\n",
    "# Insert a document into the \"customers\" collection\n",
    "mydict = { \"name\": \"John\", \"address\": \"Highway 37\" }\n",
    "x = col.insert_one(mydict)\n",
    "\n",
    "# Print the ID of the inserted document\n",
    "print(x.inserted_id)\n"
   ]
  },
  {
   "cell_type": "markdown",
   "id": "fcdf40c5",
   "metadata": {},
   "source": [
    "#### Q4. Using the database and the collection created in question number 3, write a code to insert one record, and insert many records. Use the find() and find_one() methods to print the inserted record."
   ]
  },
  {
   "cell_type": "code",
   "execution_count": null,
   "id": "88623165",
   "metadata": {},
   "outputs": [],
   "source": [
    "# Import the PyMongo library\n",
    "import pymongo\n",
    "\n",
    "# Connect to MongoDB\n",
    "client = pymongo.MongoClient(\"mongodb://localhost:27017/\")\n",
    "\n",
    "# Create a database called \"mydatabase\"\n",
    "db = client[\"mydatabase\"]\n",
    "\n",
    "# Create a collection called \"customers\"\n",
    "col = db[\"customers\"]\n",
    "\n",
    "# Insert one record into the \"customers\" collection\n",
    "mydict = { \"name\": \"Alice\", \"address\": \"123 Main St\", \"age\": 25 }\n",
    "x = col.insert_one(mydict)\n",
    "\n",
    "# Print the inserted record\n",
    "print(col.find_one())\n",
    "\n",
    "# Insert many records into the \"customers\" collection\n",
    "mylist = [\n",
    "  { \"name\": \"Bob\", \"address\": \"456 Oak Ave\", \"age\": 35 },\n",
    "  { \"name\": \"Charlie\", \"address\": \"789 Elm St\", \"age\": 45 },\n",
    "  { \"name\": \"Dave\", \"address\": \"321 Maple Dr\", \"age\": 55 }\n",
    "]\n",
    "x = col.insert_many(mylist)\n",
    "\n",
    "# Print the inserted records\n",
    "for record in col.find():\n",
    "    print(record)\n"
   ]
  },
  {
   "cell_type": "markdown",
   "id": "1b4d5cef",
   "metadata": {},
   "source": [
    "#### Q5. Explain how you can use the find() method to query the MongoDB database. Write a simple code to demonstrate this."
   ]
  },
  {
   "cell_type": "markdown",
   "id": "dc85b9a7",
   "metadata": {},
   "source": [
    "The find() method is used to query a MongoDB collection for documents that match certain criteria. The method returns a cursor object, which can be used to iterate over the matching documents."
   ]
  },
  {
   "cell_type": "code",
   "execution_count": null,
   "id": "65cd15ea",
   "metadata": {},
   "outputs": [],
   "source": [
    "# Find all documents in the \"customers\" collection\n",
    "cursor = db.customers.find()\n",
    "\n",
    "# Iterate over the cursor to print each document\n",
    "for document in cursor:\n",
    "    print(document)\n"
   ]
  },
  {
   "cell_type": "code",
   "execution_count": null,
   "id": "20e855cf",
   "metadata": {},
   "outputs": [],
   "source": [
    "# Find documents where the \"name\" field is \"Alice\"\n",
    "cursor = db.customers.find({ \"name\": \"Alice\" })\n",
    "\n",
    "# Iterate over the cursor to print each matching document\n",
    "for document in cursor:\n",
    "    print(document)\n"
   ]
  },
  {
   "cell_type": "markdown",
   "id": "af30446e",
   "metadata": {},
   "source": [
    "#### Q6. Explain the sort() method. Give an example to demonstrate sorting in MongoDB."
   ]
  },
  {
   "cell_type": "markdown",
   "id": "9d85f356",
   "metadata": {},
   "source": [
    "In MongoDB, the sort() method is used to sort the documents in a collection based on a specific field or fields. The sort() method takes a document as its argument, which specifies the fields to sort on and the sort order.\n",
    "\n",
    "The document passed to the sort() method should have field names as keys and the sort order as the values. If the value is 1, the field will be sorted in ascending order, and if the value is -1, the field will be sorted in descending order."
   ]
  },
  {
   "cell_type": "markdown",
   "id": "c65f220d",
   "metadata": {},
   "source": [
    " * Example\n",
    " \n",
    "Suppose we have a collection called students that contains documents representing students and their grades. Each document has the following fields:\n",
    "\n",
    "_id: the unique identifier of the document\n",
    "\n",
    "name: the name of the student\n",
    "\n",
    "grade: the student's grade in the course\n",
    "\n",
    "To sort the documents in the students collection by grade in descending order, we can use the following code:"
   ]
  },
  {
   "cell_type": "code",
   "execution_count": null,
   "id": "e7c86487",
   "metadata": {},
   "outputs": [],
   "source": [
    "db.students.find().sort({ grade: -1 })\n"
   ]
  },
  {
   "cell_type": "markdown",
   "id": "17cf5285",
   "metadata": {},
   "source": [
    "#### Q7. Explain why delete_one(), delete_many(), and drop() is used."
   ]
  },
  {
   "cell_type": "markdown",
   "id": "60237038",
   "metadata": {},
   "source": [
    "In MongoDB, there are three methods used for deleting data from a collection: delete_one(), delete_many(), and drop().\n",
    "\n",
    " * delete_one() is used to delete a single document that matches the given filter. It takes a single argument, which is a document that specifies the filter criteria. If there are multiple documents that match the filter, only the first document found will be deleted. If there are no documents that match the filter, nothing will be deleted."
   ]
  },
  {
   "cell_type": "code",
   "execution_count": null,
   "id": "4c103abb",
   "metadata": {},
   "outputs": [],
   "source": [
    "#Example\n",
    "\n",
    "db.students.delete_one({ name: \"John\" })\n"
   ]
  },
  {
   "cell_type": "markdown",
   "id": "b71620ee",
   "metadata": {},
   "source": [
    " * delete_many() is used to delete multiple documents that match the given filter. It takes a single argument, which is a document that specifies the filter criteria. All documents that match the filter will be deleted."
   ]
  },
  {
   "cell_type": "code",
   "execution_count": null,
   "id": "ee0ad0e4",
   "metadata": {},
   "outputs": [],
   "source": [
    "#Example\n",
    "\n",
    "db.students.delete_many({ grade: { \"$lt\": 60 } })\n"
   ]
  },
  {
   "cell_type": "markdown",
   "id": "456a9f2c",
   "metadata": {},
   "source": [
    " * drop() is used to delete an entire collection from the database. It takes no arguments and simply deletes the collection and all its associated documents."
   ]
  },
  {
   "cell_type": "code",
   "execution_count": null,
   "id": "dfeeb693",
   "metadata": {},
   "outputs": [],
   "source": [
    "#Example\n",
    "\n",
    "db.students.drop()\n"
   ]
  }
 ],
 "metadata": {
  "kernelspec": {
   "display_name": "Python 3",
   "language": "python",
   "name": "python3"
  },
  "language_info": {
   "codemirror_mode": {
    "name": "ipython",
    "version": 3
   },
   "file_extension": ".py",
   "mimetype": "text/x-python",
   "name": "python",
   "nbconvert_exporter": "python",
   "pygments_lexer": "ipython3",
   "version": "3.8.8"
  }
 },
 "nbformat": 4,
 "nbformat_minor": 5
}
