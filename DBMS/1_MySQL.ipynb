{
 "cells": [
  {
   "cell_type": "markdown",
   "id": "88905401",
   "metadata": {},
   "source": [
    "#### Q1. What is a database? Differentiate between SQL and NoSQL databases."
   ]
  },
  {
   "cell_type": "markdown",
   "id": "ac8c5697",
   "metadata": {},
   "source": [
    "A database is a collection of data that is organized in a way that allows for efficient storage, retrieval, and management of that data. It can be used to store a wide variety of information, such as customer data, product information, financial records, and more.\n",
    "\n",
    "The main differences between SQL and NoSQL databases are:\n",
    "\n",
    " * SQL databases are relational and use tables to store data, while NoSQL databases are non-relational and use document-based or key-value-based data models.\n",
    " * SQL databases are good for applications that require complex queries, transactions, and high levels of data consistency, while NoSQL databases are good for applications that require high levels of performance and scalability."
   ]
  },
  {
   "cell_type": "markdown",
   "id": "cc82e973",
   "metadata": {},
   "source": [
    "#### Q2. What is DDL? Explain why CREATE, DROP, ALTER, and TRUNCATE are used with an example."
   ]
  },
  {
   "cell_type": "markdown",
   "id": "f3e5fe41",
   "metadata": {},
   "source": [
    "DDL (Data Definition Language) is a set of SQL statements used to define and manipulate the structure of a database. DDL statements are used to create, modify, and delete database objects such as tables, views, indexes, and procedures.\n",
    "\n",
    "Here are some examples of DDL statements and their uses:\n",
    "\n",
    " * CREATE: The CREATE statement is used to create a new database object, such as a table or a view."
   ]
  },
  {
   "cell_type": "code",
   "execution_count": null,
   "id": "7d13077f",
   "metadata": {},
   "outputs": [],
   "source": [
    "#Example\n",
    "\n",
    "CREATE TABLE customers (id INT PRIMARY KEY, name VARCHAR(50) NOT NULL, email VARCHAR(50) UNIQUE);\n"
   ]
  },
  {
   "cell_type": "markdown",
   "id": "8830bbf7",
   "metadata": {},
   "source": [
    " * DROP: The DROP statement is used to delete a database object, such as a table or a view. "
   ]
  },
  {
   "cell_type": "code",
   "execution_count": 1,
   "id": "dd98bd00",
   "metadata": {},
   "outputs": [],
   "source": [
    "#Example\n",
    "\n",
    "DROP TABLE customers;\n"
   ]
  },
  {
   "cell_type": "markdown",
   "id": "a10590eb",
   "metadata": {},
   "source": [
    " * ALTER: The ALTER statement is used to modify the structure of a database object."
   ]
  },
  {
   "cell_type": "code",
   "execution_count": null,
   "id": "e9487f34",
   "metadata": {},
   "outputs": [],
   "source": [
    "#Example\n",
    "\n",
    "ALTER TABLE customers ADD phone VARCHAR(20);\n"
   ]
  },
  {
   "cell_type": "markdown",
   "id": "6540124a",
   "metadata": {},
   "source": [
    " * TRUNCATE: The TRUNCATE statement is used to delete all the data in a table."
   ]
  },
  {
   "cell_type": "code",
   "execution_count": null,
   "id": "8737e813",
   "metadata": {
    "scrolled": true
   },
   "outputs": [],
   "source": [
    "#Example\n",
    "\n",
    "TRUNCATE TABLE customers;\n"
   ]
  },
  {
   "cell_type": "markdown",
   "id": "7fbb47a2",
   "metadata": {},
   "source": [
    "#### Q3. What is DML? Explain INSERT, UPDATE, and DELETE with an example."
   ]
  },
  {
   "cell_type": "markdown",
   "id": "7aad6d96",
   "metadata": {},
   "source": [
    "DML (Data Manipulation Language) is a set of SQL statements used to manipulate the data within a database. DML statements are used to insert, update, and delete data in a database.\n",
    "\n",
    "Here are some examples of DML statements and their uses:\n",
    "\n",
    " * INSERT: The INSERT statement is used to add new data to a table."
   ]
  },
  {
   "cell_type": "code",
   "execution_count": null,
   "id": "3362d5d0",
   "metadata": {},
   "outputs": [],
   "source": [
    "#Example\n",
    "\n",
    "INSERT INTO customers (id, name, email) VALUES (1, 'John Doe', 'john.doe@example.com');\n"
   ]
  },
  {
   "cell_type": "markdown",
   "id": "6b6c7471",
   "metadata": {},
   "source": [
    " * UPDATE: The UPDATE statement is used to modify existing data in a table."
   ]
  },
  {
   "cell_type": "code",
   "execution_count": null,
   "id": "cdd3b0c7",
   "metadata": {},
   "outputs": [],
   "source": [
    "#Example\n",
    "\n",
    "UPDATE customers SET email = 'jane.doe@example.com' WHERE id = 1;\n"
   ]
  },
  {
   "cell_type": "markdown",
   "id": "a79d6efc",
   "metadata": {},
   "source": [
    " *  DELETE: The DELETE statement is used to remove data from a table."
   ]
  },
  {
   "cell_type": "code",
   "execution_count": null,
   "id": "bd116558",
   "metadata": {},
   "outputs": [],
   "source": [
    "#Example\n",
    "\n",
    "DELETE FROM customers WHERE id = 1;\n"
   ]
  },
  {
   "cell_type": "markdown",
   "id": "b4f8b11e",
   "metadata": {},
   "source": [
    "#### Q4. What is DQL? Explain SELECT with an example."
   ]
  },
  {
   "cell_type": "markdown",
   "id": "8876f16f",
   "metadata": {},
   "source": [
    "DQL (Data Query Language) is a set of SQL statements used to retrieve data from a database. DQL statements are used to query the data stored in tables and return specific information based on a set of conditions.\n",
    "\n",
    "The most commonly used DQL statement is SELECT, which is used to retrieve data from one or more tables in a database."
   ]
  },
  {
   "cell_type": "code",
   "execution_count": null,
   "id": "e3f17ffc",
   "metadata": {},
   "outputs": [],
   "source": [
    "#Example\n",
    "\n",
    "SELECT name, email FROM customers;\n"
   ]
  },
  {
   "cell_type": "markdown",
   "id": "41c54fb0",
   "metadata": {},
   "source": [
    "#### Q5. Explain Primary Key and Foreign Key."
   ]
  },
  {
   "cell_type": "markdown",
   "id": "249a768d",
   "metadata": {},
   "source": [
    "Primary Key and Foreign Key are two important concepts in relational databases that help to establish and maintain relationships between tables.\n",
    "\n",
    " * Primary Key:\n",
    "A primary key is a unique identifier for a record in a table. It is used to ensure that each record in a table is unique and can be identified uniquely. A primary key can be a single column or a combination of columns.\n",
    "\n",
    "For example, consider a table of customers. Each customer can be identified uniquely by their email address. In this case, we can set the \"email\" column as the primary key of the \"customers\" table to ensure that each record is unique and can be identified uniquely.\n",
    "\n",
    " * Foreign Key:\n",
    "A foreign key is a column or set of columns in one table that refers to the primary key of another table. It is used to establish a relationship between two tables. The foreign key ensures that the data in the child table (the table containing the foreign key) is related to the data in the parent table (the table containing the primary key).\n",
    "\n",
    "For example, consider two tables: \"customers\" and \"orders\". The \"customers\" table has a primary key of \"id\", and the \"orders\" table has a foreign key of \"customer_id\". The \"customer_id\" column in the \"orders\" table refers to the \"id\" column in the \"customers\" table, indicating that each order is associated with a specific customer."
   ]
  },
  {
   "cell_type": "markdown",
   "id": "81c89e4e",
   "metadata": {},
   "source": [
    "#### Q6. Write a python code to connect MySQL to python. Explain the cursor() and execute() method."
   ]
  },
  {
   "cell_type": "markdown",
   "id": "707c6527",
   "metadata": {},
   "source": [
    " * The cursor() method creates a cursor object that is used to execute SQL statements and fetch the results. The cursor object provides methods to execute queries and fetch results.\n",
    "\n",
    " * The execute() method is used to execute SQL statements, such as SELECT, INSERT, UPDATE, and DELETE. We pass the SQL query as an argument to the execute() method."
   ]
  },
  {
   "cell_type": "code",
   "execution_count": null,
   "id": "39d66974",
   "metadata": {},
   "outputs": [],
   "source": [
    "import mysql.connector\n",
    "\n",
    "# Connect to the database\n",
    "cnx = mysql.connector.connect(\n",
    "  host=\"localhost\",\n",
    "  user=\"username\",\n",
    "  password=\"password\",\n",
    "  database=\"database_name\"\n",
    ")\n",
    "\n",
    "# Create a cursor object\n",
    "cursor = cnx.cursor()\n",
    "\n",
    "# Execute a query\n",
    "query = \"SELECT * FROM customers\"\n",
    "cursor.execute(query)\n",
    "\n",
    "# Fetch the results\n",
    "results = cursor.fetchall()\n",
    "for row in results:\n",
    "  print(row)\n",
    "\n",
    "# Close the cursor and database connection\n",
    "cursor.close()\n",
    "cnx.close()\n"
   ]
  },
  {
   "cell_type": "markdown",
   "id": "d21cac87",
   "metadata": {},
   "source": [
    "#### Q7. Give the order of execution of SQL clauses in an SQL query."
   ]
  },
  {
   "cell_type": "markdown",
   "id": "86880d39",
   "metadata": {},
   "source": [
    "In an SQL query, the order of execution of the SQL clauses is as follows:\n",
    "\n",
    " * SELECT: The SELECT clause is used to retrieve data from the database. It is the first clause in an SQL query and specifies the columns that should be included in the results.\n",
    "\n",
    " * FROM: The FROM clause specifies the table or tables from which the data should be retrieved.\n",
    "\n",
    " * WHERE: The WHERE clause is used to filter the data based on a specified condition. It is used to specify a condition that must be met in order for a row to be included in the results.\n",
    "\n",
    " * GROUP BY: The GROUP BY clause is used to group the results based on one or more columns. It is used in conjunction with aggregate functions such as COUNT, SUM, AVG, etc.\n",
    "\n",
    " * HAVING: The HAVING clause is used to filter the results of a GROUP BY clause based on a specified condition.\n",
    "\n",
    " * ORDER BY: The ORDER BY clause is used to sort the results in either ascending or descending order based on one or more columns.\n",
    "\n",
    " * LIMIT: The LIMIT clause is used to limit the number of rows returned by the query.\n",
    " \n",
    "Note that not all of these clauses are required in every SQL query, and they may appear in a different order depending on the specific query being executed. However, the general order of execution is as described above."
   ]
  }
 ],
 "metadata": {
  "kernelspec": {
   "display_name": "Python 3",
   "language": "python",
   "name": "python3"
  },
  "language_info": {
   "codemirror_mode": {
    "name": "ipython",
    "version": 3
   },
   "file_extension": ".py",
   "mimetype": "text/x-python",
   "name": "python",
   "nbconvert_exporter": "python",
   "pygments_lexer": "ipython3",
   "version": "3.8.8"
  }
 },
 "nbformat": 4,
 "nbformat_minor": 5
}
