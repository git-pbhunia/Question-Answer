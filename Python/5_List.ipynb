{
 "cells": [
  {
   "cell_type": "markdown",
   "id": "8a186f38",
   "metadata": {},
   "source": [
    "#### Q1. Create a python program to sort the given list of tuples based on integer value using a lambda function.\n",
    "#### [('Sachin Tendulkar', 34357), ('Ricky Ponting', 27483), ('Jack Kallis', 25534), ('Virat Kohli', 24936)]"
   ]
  },
  {
   "cell_type": "code",
   "execution_count": 1,
   "id": "121a9e02",
   "metadata": {},
   "outputs": [
    {
     "name": "stdout",
     "output_type": "stream",
     "text": [
      "[('Sachin Tendulkar', 34357), ('Ricky Ponting', 27483), ('Jack Kallis', 25534), ('Virat Kohli', 24936)]\n"
     ]
    }
   ],
   "source": [
    "def sort_list_of_tuples(lst):\n",
    "    return sorted(lst, key=lambda x: x[1], reverse=True)\n",
    "\n",
    "lst = [('Sachin Tendulkar', 34357), ('Ricky Ponting', 27483), ('Jack Kallis', 25534), ('Virat Kohli', 24936)]\n",
    "print(sort_list_of_tuples(lst))\n"
   ]
  },
  {
   "cell_type": "markdown",
   "id": "2710b469",
   "metadata": {},
   "source": [
    "#### Q2. Write a Python Program to find the squares of all the numbers in the given list of integers using lambda and map functions.\n",
    "#### [1, 2, 3, 4, 5, 6, 7, 8, 9, 10]"
   ]
  },
  {
   "cell_type": "code",
   "execution_count": 2,
   "id": "70c988fd",
   "metadata": {},
   "outputs": [
    {
     "name": "stdout",
     "output_type": "stream",
     "text": [
      "[1, 4, 9, 16, 25, 36, 49, 64, 81, 100]\n"
     ]
    }
   ],
   "source": [
    "def square_numbers(lst):\n",
    "    return list(map(lambda x: x**2, lst))\n",
    "\n",
    "lst = [1, 2, 3, 4, 5, 6, 7, 8, 9, 10]\n",
    "print(square_numbers(lst))\n"
   ]
  },
  {
   "cell_type": "markdown",
   "id": "0670707a",
   "metadata": {},
   "source": [
    "#### Q3. Write a python program to convert the given list of integers into a tuple of strings. Use map and lambda functions\n",
    "#### Given String: [1, 2, 3, 4, 5, 6, 7, 8, 9, 10]\n",
    "#### Expected output: ('1', '2', '3', '4', '5', '6', '7', '8', '9', '10')"
   ]
  },
  {
   "cell_type": "code",
   "execution_count": 3,
   "id": "92b40dd6",
   "metadata": {},
   "outputs": [
    {
     "name": "stdout",
     "output_type": "stream",
     "text": [
      "('1', '2', '3', '4', '5', '6', '7', '8', '9', '10')\n"
     ]
    }
   ],
   "source": [
    "numbers = [1, 2, 3, 4, 5, 6, 7, 8, 9, 10]\n",
    "\n",
    "# Use the map function to convert each number to a string\n",
    "strings = map(str, numbers)\n",
    "\n",
    "# Use the tuple function to convert the map object to a tuple\n",
    "result = tuple(strings)\n",
    "\n",
    "print(result)\n"
   ]
  },
  {
   "cell_type": "markdown",
   "id": "b538d4b9",
   "metadata": {},
   "source": [
    "#### Q4. Write a python program using reduce function to compute the product of a list containing numbers from 1 to 25."
   ]
  },
  {
   "cell_type": "code",
   "execution_count": 4,
   "id": "455b463e",
   "metadata": {},
   "outputs": [
    {
     "name": "stdout",
     "output_type": "stream",
     "text": [
      "15511210043330985984000000\n"
     ]
    }
   ],
   "source": [
    "from functools import reduce\n",
    "\n",
    "# Create a list containing numbers from 1 to 25\n",
    "numbers = [i for i in range(1, 26)]\n",
    "\n",
    "# Use the reduce function to compute the product of the numbers\n",
    "product = reduce(lambda x, y: x * y, numbers)\n",
    "\n",
    "print(product)\n"
   ]
  },
  {
   "cell_type": "markdown",
   "id": "1b6e04d5",
   "metadata": {},
   "source": [
    "#### Q5. Write a python program to filter the numbers in a given list that are divisible by 2 and 3 using the filter function.\n",
    "#### [2, 3, 6, 9, 27, 60, 90, 120, 55, 46]"
   ]
  },
  {
   "cell_type": "code",
   "execution_count": 5,
   "id": "a8e37095",
   "metadata": {},
   "outputs": [
    {
     "name": "stdout",
     "output_type": "stream",
     "text": [
      "[6, 60, 90, 120]\n"
     ]
    }
   ],
   "source": [
    "numbers = [2, 3, 6, 9, 27, 60, 90, 120, 55, 46]\n",
    "\n",
    "# Use the filter function to keep only the numbers that are divisible by 2 and 3\n",
    "result = list(filter(lambda x: x % 2 == 0 and x % 3 == 0, numbers))\n",
    "\n",
    "print(result)\n"
   ]
  },
  {
   "cell_type": "markdown",
   "id": "41440dd2",
   "metadata": {},
   "source": [
    "#### Q6. Write a python program to find palindromes in the given list of strings using lambda and filter function.\n",
    "#### ['python', 'php', 'aba', 'radar', 'level']"
   ]
  },
  {
   "cell_type": "code",
   "execution_count": 6,
   "id": "b978d1ab",
   "metadata": {},
   "outputs": [
    {
     "name": "stdout",
     "output_type": "stream",
     "text": [
      "['php', 'aba', 'radar', 'level']\n"
     ]
    }
   ],
   "source": [
    "words = ['python', 'php', 'aba', 'radar', 'level']\n",
    "\n",
    "# Use the filter function to keep only the words that are palindromes\n",
    "result = list(filter(lambda x: x == x[::-1], words))\n",
    "\n",
    "print(result)\n"
   ]
  }
 ],
 "metadata": {
  "kernelspec": {
   "display_name": "Python 3",
   "language": "python",
   "name": "python3"
  },
  "language_info": {
   "codemirror_mode": {
    "name": "ipython",
    "version": 3
   },
   "file_extension": ".py",
   "mimetype": "text/x-python",
   "name": "python",
   "nbconvert_exporter": "python",
   "pygments_lexer": "ipython3",
   "version": "3.8.8"
  }
 },
 "nbformat": 4,
 "nbformat_minor": 5
}
