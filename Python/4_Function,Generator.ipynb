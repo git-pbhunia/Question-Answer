{
 "cells": [
  {
   "cell_type": "markdown",
   "id": "13635ef4",
   "metadata": {},
   "source": [
    "#### Q1. Which keyword is used to create a function? Create a function to return a list of odd numbers in the range of 1 to 25."
   ]
  },
  {
   "cell_type": "markdown",
   "id": "8ec4faae",
   "metadata": {},
   "source": [
    "The keyword used to create a function in Python is \"def\". Here is an example of a function that returns a list of odd numbers in the range of 1 to 25:"
   ]
  },
  {
   "cell_type": "code",
   "execution_count": 1,
   "id": "49216fbd",
   "metadata": {},
   "outputs": [
    {
     "name": "stdout",
     "output_type": "stream",
     "text": [
      "[1, 3, 5, 7, 9, 11, 13, 15, 17, 19, 21, 23, 25]\n"
     ]
    }
   ],
   "source": [
    "def get_odd_numbers():\n",
    "    odd_numbers = []\n",
    "    for i in range(1, 26):\n",
    "        if i % 2 != 0:\n",
    "            odd_numbers.append(i)\n",
    "    return odd_numbers\n",
    "\n",
    "print(get_odd_numbers())\n"
   ]
  },
  {
   "cell_type": "markdown",
   "id": "45074db8",
   "metadata": {},
   "source": [
    "#### Q2. Why *args and **kwargs is used in some functions? Create a function each for *args and **kwargs to demonstrate their use."
   ]
  },
  {
   "cell_type": "markdown",
   "id": "a37f2e88",
   "metadata": {},
   "source": [
    "*args and **kwargs are used in functions to allow them to accept an arbitrary number of positional and keyword arguments, respectively.\n",
    "\n",
    "*args is used to pass a variable number of positional arguments to a function. The asterisk * before the argument name args allows the function to accept any number of positional arguments, which are passed as a tuple."
   ]
  },
  {
   "cell_type": "code",
   "execution_count": 2,
   "id": "29b2c660",
   "metadata": {},
   "outputs": [
    {
     "name": "stdout",
     "output_type": "stream",
     "text": [
      "Positional arguments: (1, 2, 3)\n"
     ]
    }
   ],
   "source": [
    "#Example\n",
    "\n",
    "def print_args(*args):\n",
    "    print(\"Positional arguments:\", args)\n",
    "\n",
    "print_args(1, 2, 3)\n"
   ]
  },
  {
   "cell_type": "markdown",
   "id": "8ed8fa0f",
   "metadata": {},
   "source": [
    "**kwargs is used to pass a variable number of keyword arguments to a function. The double asterisk ** before the argument name kwargs allows the function to accept any number of keyword arguments, which are passed as a dictionary."
   ]
  },
  {
   "cell_type": "code",
   "execution_count": 3,
   "id": "35d73e75",
   "metadata": {},
   "outputs": [
    {
     "name": "stdout",
     "output_type": "stream",
     "text": [
      "Keyword arguments: {'a': 1, 'b': 2, 'c': 3}\n"
     ]
    }
   ],
   "source": [
    "#Example \n",
    "\n",
    "def print_kwargs(**kwargs):\n",
    "    print(\"Keyword arguments:\", kwargs)\n",
    "\n",
    "print_kwargs(a=1, b=2, c=3)\n"
   ]
  },
  {
   "cell_type": "markdown",
   "id": "6ad2d887",
   "metadata": {},
   "source": [
    "#### Q3. What is an iterator in python? Name the method used to initialise the iterator object and the method used for iteration. Use these methods to print the first five elements of the given list [2, 4, 6, 8, 10, 12, 14, 16,18, 20]."
   ]
  },
  {
   "cell_type": "markdown",
   "id": "c8b76d8d",
   "metadata": {},
   "source": [
    "An iterator in Python is an object that can be iterated (looped) upon. Iterators are used to represent a stream of data, which can be accessed one element at a time.\n",
    "\n",
    "Iterators have two methods: __iter__() and __next__().\n",
    "__iter__() method is used to initialize the iterator object.\n",
    "__next__() method is used to iterate over the elements of the iterator."
   ]
  },
  {
   "cell_type": "code",
   "execution_count": 4,
   "id": "d44b5028",
   "metadata": {},
   "outputs": [
    {
     "name": "stdout",
     "output_type": "stream",
     "text": [
      "2\n",
      "4\n",
      "6\n",
      "8\n",
      "10\n"
     ]
    }
   ],
   "source": [
    "#Example\n",
    "\n",
    "numbers = [2, 4, 6, 8, 10, 12, 14, 16, 18, 20]\n",
    "\n",
    "# Create the iterator object\n",
    "numbers_iterator = iter(numbers)\n",
    "\n",
    "# Use the iterator object\n",
    "for i in range(5):\n",
    "    print(next(numbers_iterator))\n"
   ]
  },
  {
   "cell_type": "markdown",
   "id": "64cb51f8",
   "metadata": {},
   "source": [
    "#### Q4. What is a generator function in python? Why yield keyword is used? Give an example of a generator function."
   ]
  },
  {
   "cell_type": "markdown",
   "id": "45b472da",
   "metadata": {},
   "source": [
    "A generator function in Python is a special type of function that returns a generator iterator. It is defined like a normal function, but instead of using the return statement, it uses the yield keyword. When a generator function is called, it returns a generator object that can be used to execute the code in the function one value at a time.\n",
    "\n",
    "The yield keyword is used in generator functions to return a value to the caller, but also to maintain the state of the function so that when it is called again, it picks up where it left off. The generator function runs until it encounters a yield statement, at which point it returns the value specified in the yield statement and pauses execution. The next time the generator is called, execution resumes after the yield statement and continues until the next yield statement or until the end of the function."
   ]
  },
  {
   "cell_type": "code",
   "execution_count": 5,
   "id": "f8ec8fca",
   "metadata": {},
   "outputs": [
    {
     "name": "stdout",
     "output_type": "stream",
     "text": [
      "0\n",
      "1\n",
      "1\n",
      "2\n",
      "3\n",
      "5\n",
      "8\n",
      "13\n",
      "21\n",
      "34\n"
     ]
    }
   ],
   "source": [
    "#Example\n",
    "\n",
    "def fibonacci_sequence():\n",
    "    a, b = 0, 1\n",
    "    while True:\n",
    "        yield a\n",
    "        a, b = b, a + b\n",
    "\n",
    "fibonacci = fibonacci_sequence()\n",
    "for i in range(10):\n",
    "    print(next(fibonacci))\n"
   ]
  },
  {
   "cell_type": "markdown",
   "id": "8f20fabd",
   "metadata": {},
   "source": [
    "#### Q5. Create a generator function for prime numbers less than 1000. Use the next() method to print the first 20 prime numbers."
   ]
  },
  {
   "cell_type": "code",
   "execution_count": 6,
   "id": "9bf90526",
   "metadata": {},
   "outputs": [
    {
     "name": "stdout",
     "output_type": "stream",
     "text": [
      "2\n",
      "3\n",
      "5\n",
      "7\n",
      "11\n",
      "13\n",
      "17\n",
      "19\n",
      "23\n",
      "29\n",
      "31\n",
      "37\n",
      "41\n",
      "43\n",
      "47\n",
      "53\n",
      "59\n",
      "61\n",
      "67\n",
      "71\n"
     ]
    }
   ],
   "source": [
    "#A generator function that generates prime numbers less than 1000\n",
    "\n",
    "def prime_numbers():\n",
    "    for num in range(2, 1000):\n",
    "        for i in range(2, num):\n",
    "            if (num % i) == 0:\n",
    "                break\n",
    "        else:\n",
    "            yield num\n",
    "\n",
    "primes = prime_numbers()\n",
    "for i in range(20):\n",
    "    print(next(primes))\n"
   ]
  }
 ],
 "metadata": {
  "kernelspec": {
   "display_name": "Python 3",
   "language": "python",
   "name": "python3"
  },
  "language_info": {
   "codemirror_mode": {
    "name": "ipython",
    "version": 3
   },
   "file_extension": ".py",
   "mimetype": "text/x-python",
   "name": "python",
   "nbconvert_exporter": "python",
   "pygments_lexer": "ipython3",
   "version": "3.8.8"
  }
 },
 "nbformat": 4,
 "nbformat_minor": 5
}
