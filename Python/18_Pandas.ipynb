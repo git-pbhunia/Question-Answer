{
 "cells": [
  {
   "cell_type": "markdown",
   "id": "9b4d5719",
   "metadata": {},
   "source": [
    "#### Q1. List any five functions of the pandas library with execution."
   ]
  },
  {
   "cell_type": "markdown",
   "id": "d2658036",
   "metadata": {},
   "source": [
    " * read_csv() - reads a CSV file into a pandas DataFrame"
   ]
  },
  {
   "cell_type": "code",
   "execution_count": null,
   "id": "987bce12",
   "metadata": {},
   "outputs": [],
   "source": [
    "import pandas as pd\n",
    "data = pd.read_csv('data.csv')\n"
   ]
  },
  {
   "cell_type": "markdown",
   "id": "66d56cd1",
   "metadata": {},
   "source": [
    " * head() - displays the first 5 rows of a DataFrame"
   ]
  },
  {
   "cell_type": "code",
   "execution_count": null,
   "id": "14f8ab76",
   "metadata": {},
   "outputs": [],
   "source": [
    "import pandas as pd\n",
    "data = pd.read_csv('data.csv')\n",
    "print(data.head(10)) # display the first 10 rows of data\n"
   ]
  },
  {
   "cell_type": "markdown",
   "id": "c8230041",
   "metadata": {},
   "source": [
    " * describe() - provides summary statistics for a DataFrame"
   ]
  },
  {
   "cell_type": "code",
   "execution_count": null,
   "id": "f7ad3074",
   "metadata": {},
   "outputs": [],
   "source": [
    "import pandas as pd\n",
    "data = pd.read_csv('data.csv')\n",
    "print(data.describe()) # provides summary statistics for all columns in data\n"
   ]
  },
  {
   "cell_type": "markdown",
   "id": "8ad73175",
   "metadata": {},
   "source": [
    " * groupby() - groups a DataFrame by one or more columns and performs an aggregation function on the grouped data"
   ]
  },
  {
   "cell_type": "code",
   "execution_count": null,
   "id": "052bd0c3",
   "metadata": {},
   "outputs": [],
   "source": [
    "import pandas as pd\n",
    "data = pd.read_csv('data.csv')\n",
    "grouped_data = data.groupby(['column1', 'column2']).sum()\n",
    "print(grouped_data) # groups data by 'column1' and 'column2' and sums the values of other columns in each group\n"
   ]
  },
  {
   "cell_type": "markdown",
   "id": "30ff7ce7",
   "metadata": {},
   "source": [
    " * plot() - plots data in a pandas DataFrame"
   ]
  },
  {
   "cell_type": "code",
   "execution_count": null,
   "id": "5f1326b8",
   "metadata": {},
   "outputs": [],
   "source": [
    "import pandas as pd\n",
    "import matplotlib.pyplot as plt\n",
    "data = pd.read_csv('data.csv')\n",
    "data.plot(x='column1', y='column2', kind='scatter') # scatter plot of data with 'column1' on the x-axis and 'column2' on the y-axis\n",
    "plt.show()\n"
   ]
  },
  {
   "cell_type": "markdown",
   "id": "3435d338",
   "metadata": {},
   "source": [
    "#### Q2. Given a Pandas DataFrame df with columns 'A', 'B', and 'C', write a Python function to re-index the DataFrame with a new index that starts from 1 and increments by 2 for each row."
   ]
  },
  {
   "cell_type": "code",
   "execution_count": 1,
   "id": "ad528e1b",
   "metadata": {},
   "outputs": [
    {
     "name": "stdout",
     "output_type": "stream",
     "text": [
      "   A  B  C\n",
      "1  1  4  7\n",
      "3  2  5  8\n",
      "5  3  6  9\n"
     ]
    }
   ],
   "source": [
    "import pandas as pd\n",
    "\n",
    "def reindex_df(df):\n",
    "    new_index = pd.Index(range(1, 2*len(df)+1, 2))\n",
    "    df = df.set_index(new_index)\n",
    "    return df\n",
    "\n",
    "df = pd.DataFrame({'A': [1, 2, 3], 'B': [4, 5, 6], 'C': [7, 8, 9]})\n",
    "df = reindex_df(df)\n",
    "print(df)\n"
   ]
  },
  {
   "cell_type": "markdown",
   "id": "192cef60",
   "metadata": {},
   "source": [
    "#### Q3. You have a Pandas DataFrame df with a column named 'Values'. Write a Python function that iterates over the DataFrame and calculates the sum of the first three values in the 'Values' column. The function should print the sum to the console.\n",
    "\n",
    "#### For example, if the 'Values' column of df contains the values [10, 20, 30, 40, 50], your function should calculate and print the sum of the first three values, which is 60."
   ]
  },
  {
   "cell_type": "code",
   "execution_count": 2,
   "id": "32a54369",
   "metadata": {},
   "outputs": [
    {
     "name": "stdout",
     "output_type": "stream",
     "text": [
      "The sum of the first three values is: 60\n"
     ]
    }
   ],
   "source": [
    "def sum_first_three_values(df):\n",
    "    total = 0\n",
    "    for i, row in df.iterrows():\n",
    "        if i < 3: # only sum the first three values\n",
    "            total += row['Values']\n",
    "    print(\"The sum of the first three values is:\", total)\n",
    "\n",
    "import pandas as pd\n",
    "\n",
    "df = pd.DataFrame({'Values': [10, 20, 30, 40, 50]})\n",
    "sum_first_three_values(df)\n"
   ]
  },
  {
   "cell_type": "markdown",
   "id": "521d7b3e",
   "metadata": {},
   "source": [
    "#### Q4. Given a Pandas DataFrame df with a column 'Text', write a Python function to create a new column 'Word_Count' that contains the number of words in each row of the 'Text' column."
   ]
  },
  {
   "cell_type": "code",
   "execution_count": 3,
   "id": "f31a2a07",
   "metadata": {},
   "outputs": [
    {
     "name": "stdout",
     "output_type": "stream",
     "text": [
      "                           Text  Word_Count\n",
      "0            This is a sentence           4\n",
      "1      This is another sentence           4\n",
      "2  And this is a third sentence           6\n"
     ]
    }
   ],
   "source": [
    "import pandas as pd\n",
    "\n",
    "def add_word_count_column(df):\n",
    "    df['Word_Count'] = df['Text'].apply(lambda x: len(str(x).split()))\n",
    "    return df\n",
    "\n",
    "df = pd.DataFrame({'Text': ['This is a sentence', 'This is another sentence', 'And this is a third sentence']})\n",
    "df = add_word_count_column(df)\n",
    "print(df)\n"
   ]
  },
  {
   "cell_type": "markdown",
   "id": "02fe12ef",
   "metadata": {},
   "source": [
    "#### Q5. How are DataFrame.size() and DataFrame.shape() different?"
   ]
  },
  {
   "cell_type": "markdown",
   "id": "a14fa7d3",
   "metadata": {},
   "source": [
    "DataFrame.size and DataFrame.shape are both methods of the Pandas DataFrame object, but they return different values.\n",
    "\n",
    "DataFrame.size returns the total number of elements in the DataFrame, which is equivalent to the number of rows multiplied by the number of columns. This includes all elements, including NaN or null values.\n",
    "\n",
    "On the other hand, DataFrame.shape returns a tuple representing the dimensions of the DataFrame, i.e., the number of rows and columns. So, DataFrame.shape will return the values (n_rows, n_cols), where n_rows is the number of rows in the DataFrame, and n_cols is the number of columns in the DataFrame."
   ]
  },
  {
   "cell_type": "code",
   "execution_count": 4,
   "id": "da30be61",
   "metadata": {},
   "outputs": [
    {
     "name": "stdout",
     "output_type": "stream",
     "text": [
      "6\n",
      "(3, 2)\n"
     ]
    }
   ],
   "source": [
    "#Example \n",
    "\n",
    "import pandas as pd\n",
    "\n",
    "df = pd.DataFrame({'A': [1, 2, 3], 'B': [4, 5, 6]})\n",
    "print(df.size)\n",
    "print(df.shape)\n"
   ]
  },
  {
   "cell_type": "markdown",
   "id": "84a02392",
   "metadata": {},
   "source": [
    "#### Q6. Which function of pandas do we use to read an excel file?"
   ]
  },
  {
   "cell_type": "markdown",
   "id": "eeff7417",
   "metadata": {},
   "source": [
    "In Pandas, we use the read_excel() function to read an Excel file into a DataFrame."
   ]
  },
  {
   "cell_type": "code",
   "execution_count": null,
   "id": "47971a29",
   "metadata": {},
   "outputs": [],
   "source": [
    "#Example \n",
    "\n",
    "import pandas as pd\n",
    "\n",
    "# Read Excel file into a DataFrame\n",
    "df = pd.read_excel('example.xlsx')\n"
   ]
  },
  {
   "cell_type": "markdown",
   "id": "6470ec10",
   "metadata": {},
   "source": [
    "#### Q7. You have a Pandas DataFrame df that contains a column named 'Email' that contains email addresses in the format 'username@domain.com'. Write a Python function that creates a new column 'Username' in df that contains only the username part of each email address.The username is the part of the email address that appears before the '@' symbol. \n",
    "\n",
    "#### For example, if the email address is 'john.doe@example.com', the 'Username' column should contain 'john.doe'. Your function should extract the username from each email address and store it in the new 'Username' column."
   ]
  },
  {
   "cell_type": "code",
   "execution_count": null,
   "id": "1d5f4f11",
   "metadata": {},
   "outputs": [],
   "source": [
    "import pandas as pd\n",
    "\n",
    "def extract_username(df):\n",
    "    # Extract the username from each email address in the 'Email' column\n",
    "    usernames = df['Email'].apply(lambda x: x.split('@')[0])\n",
    "    \n",
    "    # Create a new column 'Username' in the DataFrame and assign the usernames to it\n",
    "    df['Username'] = usernames\n",
    "    \n",
    "    # Return the updated DataFrame\n",
    "    return df\n"
   ]
  },
  {
   "cell_type": "markdown",
   "id": "55b66f3d",
   "metadata": {},
   "source": [
    "#### Q8. You have a Pandas DataFrame df with columns 'A', 'B', and 'C'. Write a Python function that selects all rows where the value in column 'A' is greater than 5 and the value in column 'B' is less than 10. The function should return a new DataFrame that contains only the selected rows.\n",
    "\n",
    "#### For example, if df contains the following values:\n",
    "\n",
    "  A B C\n",
    "  \n",
    "0 3 5 1\n",
    "\n",
    "1 8 2 7\n",
    "\n",
    "2 6 9 4\n",
    "\n",
    "3 2 3 5\n",
    "\n",
    "4 9 1 2\n",
    "\n",
    "#### Your function should select the following rows: \n",
    "\n",
    "  A B C\n",
    "\n",
    "1 8 2 7\n",
    "\n",
    "2 6 9 4\n",
    "\n",
    "4 9 1 2\n",
    "\n",
    "#### The function should return a new DataFrame that contains only the selected rows."
   ]
  },
  {
   "cell_type": "code",
   "execution_count": 5,
   "id": "a3713625",
   "metadata": {},
   "outputs": [
    {
     "name": "stdout",
     "output_type": "stream",
     "text": [
      "   A  B  C\n",
      "1  8  2  7\n",
      "2  6  9  4\n",
      "4  9  1  2\n"
     ]
    }
   ],
   "source": [
    "import pandas as pd\n",
    "\n",
    "def select_rows(df):\n",
    "    # Use boolean indexing to select rows where column 'A' > 5 and column 'B' < 10\n",
    "    selected_rows = df[(df['A'] > 5) & (df['B'] < 10)]\n",
    "    return selected_rows\n",
    "\n",
    "# Create the example DataFrame\n",
    "df = pd.DataFrame({'A': [3, 8, 6, 2, 9], 'B': [5, 2, 9, 3, 1], 'C': [1, 7, 4, 5, 2]})\n",
    "\n",
    "# Call the select_rows function to select rows where column 'A' > 5 and column 'B' < 10\n",
    "selected_df = select_rows(df)\n",
    "\n",
    "# Print the selected DataFrame\n",
    "print(selected_df)\n"
   ]
  },
  {
   "cell_type": "markdown",
   "id": "958950e0",
   "metadata": {},
   "source": [
    "#### Q9. Given a Pandas DataFrame df with a column 'Values', write a Python function to calculate the mean, median, and standard deviation of the values in the 'Values' column."
   ]
  },
  {
   "cell_type": "code",
   "execution_count": 6,
   "id": "48367d2f",
   "metadata": {},
   "outputs": [
    {
     "name": "stdout",
     "output_type": "stream",
     "text": [
      "Mean: 30.0\n",
      "Median: 30.0\n",
      "Standard deviation: 15.811388300841896\n"
     ]
    }
   ],
   "source": [
    "import pandas as pd\n",
    "\n",
    "def calculate_statistics(df):\n",
    "    # Calculate mean, median, and standard deviation of values in 'Values' column\n",
    "    mean_value = df['Values'].mean()\n",
    "    median_value = df['Values'].median()\n",
    "    std_value = df['Values'].std()\n",
    "\n",
    "    # Print results\n",
    "    print('Mean:', mean_value)\n",
    "    print('Median:', median_value)\n",
    "    print('Standard deviation:', std_value)\n",
    "\n",
    "# Create example DataFrame\n",
    "df = pd.DataFrame({'Values': [10, 20, 30, 40, 50]})\n",
    "\n",
    "# Call the calculate_statistics function to calculate mean, median, and standard deviation\n",
    "calculate_statistics(df)\n"
   ]
  },
  {
   "cell_type": "markdown",
   "id": "e202881d",
   "metadata": {},
   "source": [
    "#### Q10. Given a Pandas DataFrame df with a column 'Sales' and a column 'Date', write a Python function to create a new column 'MovingAverage' that contains the moving average of the sales for the past 7 days for each row in the DataFrame. The moving average should be calculated using a window of size 7 and should include the current day."
   ]
  },
  {
   "cell_type": "code",
   "execution_count": 7,
   "id": "141ff062",
   "metadata": {},
   "outputs": [
    {
     "name": "stdout",
     "output_type": "stream",
     "text": [
      "   Sales       Date  MovingAverage\n",
      "0     10 2022-01-01           10.0\n",
      "1     20 2022-01-02           15.0\n",
      "2     30 2022-01-03           20.0\n",
      "3     40 2022-01-04           25.0\n",
      "4     50 2022-01-05           30.0\n",
      "5     60 2022-01-06           35.0\n",
      "6     70 2022-01-07           40.0\n",
      "7     80 2022-01-08           50.0\n",
      "8     90 2022-01-09           60.0\n",
      "9    100 2022-01-10           70.0\n"
     ]
    }
   ],
   "source": [
    "import pandas as pd\n",
    "\n",
    "def add_moving_average(df):\n",
    "    # Calculate moving average of 'Sales' column using a window of size 7\n",
    "    ma = df['Sales'].rolling(window=7, min_periods=1).mean()\n",
    "\n",
    "    # Add 'MovingAverage' column to DataFrame\n",
    "    df['MovingAverage'] = ma\n",
    "\n",
    "    # Return modified DataFrame\n",
    "    return df\n",
    "\n",
    "# Create example DataFrame\n",
    "df = pd.DataFrame({'Sales': [10, 20, 30, 40, 50, 60, 70, 80, 90, 100],\n",
    "                   'Date': ['2022-01-01', '2022-01-02', '2022-01-03', '2022-01-04', '2022-01-05',\n",
    "                            '2022-01-06', '2022-01-07', '2022-01-08', '2022-01-09', '2022-01-10']})\n",
    "\n",
    "# Convert 'Date' column to datetime format\n",
    "df['Date'] = pd.to_datetime(df['Date'])\n",
    "\n",
    "# Call the add_moving_average function to add 'MovingAverage' column to DataFrame\n",
    "df = add_moving_average(df)\n",
    "\n",
    "# Print modified DataFrame with 'MovingAverage' column\n",
    "print(df)\n"
   ]
  },
  {
   "cell_type": "markdown",
   "id": "b3bb0bef",
   "metadata": {},
   "source": [
    "#### Q11. You have a Pandas DataFrame df with a column 'Date'. Write a Python function that creates a new column 'Weekday' in the DataFrame. The 'Weekday' column should contain the weekday name (e.g. Monday, Tuesday) corresponding to each date in the 'Date' column.\n",
    "\n",
    "#### For example, if df contains the following values:\n",
    "\n",
    "Date\n",
    "\n",
    "0 2023-01-01\n",
    "\n",
    "1 2023-01-02\n",
    "\n",
    "2 2023-01-03\n",
    "\n",
    "3 2023-01-04\n",
    "\n",
    "4 2023-01-05\n",
    "\n",
    "#### Your function should create the following DataFrame:\n",
    "\n",
    "\n",
    "Date Weekday\n",
    "\n",
    "0 2023-01-01 Sunday\n",
    "\n",
    "1 2023-01-02 Monday\n",
    "\n",
    "2 2023-01-03 Tuesday\n",
    "\n",
    "3 2023-01-04 Wednesday\n",
    "\n",
    "4 2023-01-05 Thursday\n",
    "\n",
    "#### The function should return the modified DataFrame"
   ]
  },
  {
   "cell_type": "code",
   "execution_count": 8,
   "id": "1e9df32b",
   "metadata": {},
   "outputs": [
    {
     "name": "stdout",
     "output_type": "stream",
     "text": [
      "        Date    Weekday\n",
      "0 2023-01-01     Sunday\n",
      "1 2023-01-02     Monday\n",
      "2 2023-01-03    Tuesday\n",
      "3 2023-01-04  Wednesday\n",
      "4 2023-01-05   Thursday\n"
     ]
    }
   ],
   "source": [
    "import pandas as pd\n",
    "\n",
    "def add_weekday_column(df):\n",
    "    df['Weekday'] = df['Date'].dt.day_name()\n",
    "    return df\n",
    "\n",
    "# Example usage\n",
    "df = pd.DataFrame({'Date': ['2023-01-01', '2023-01-02', '2023-01-03', '2023-01-04', '2023-01-05']})\n",
    "df['Date'] = pd.to_datetime(df['Date'])\n",
    "\n",
    "df = add_weekday_column(df)\n",
    "print(df)\n"
   ]
  },
  {
   "cell_type": "markdown",
   "id": "22edf169",
   "metadata": {},
   "source": [
    "#### Q12. Given a Pandas DataFrame df with a column 'Date' that contains timestamps, write a Python function to select all rows where the date is between '2023-01-01' and '2023-01-31'."
   ]
  },
  {
   "cell_type": "code",
   "execution_count": null,
   "id": "b1189025",
   "metadata": {},
   "outputs": [],
   "source": [
    "import pandas as pd\n",
    "\n",
    "def select_rows_between_dates(df):\n",
    "    start_date = pd.to_datetime('2023-01-01')\n",
    "    end_date = pd.to_datetime('2023-01-31')\n",
    "    mask = df['Date'].between(start_date, end_date)\n",
    "    return df[mask]\n"
   ]
  },
  {
   "cell_type": "markdown",
   "id": "c0db7253",
   "metadata": {},
   "source": [
    "#### Q13. To use the basic functions of pandas, what is the first and foremost necessary library that needs to be imported?"
   ]
  },
  {
   "cell_type": "markdown",
   "id": "1ab5acf1",
   "metadata": {},
   "source": [
    "The first and foremost necessary library that needs to be imported to use the basic functions of pandas is 'pandas' itself. The standard way to import pandas is by using the following code:"
   ]
  },
  {
   "cell_type": "code",
   "execution_count": 9,
   "id": "d7871a39",
   "metadata": {},
   "outputs": [],
   "source": [
    "import pandas as pd\n"
   ]
  }
 ],
 "metadata": {
  "kernelspec": {
   "display_name": "Python 3",
   "language": "python",
   "name": "python3"
  },
  "language_info": {
   "codemirror_mode": {
    "name": "ipython",
    "version": 3
   },
   "file_extension": ".py",
   "mimetype": "text/x-python",
   "name": "python",
   "nbconvert_exporter": "python",
   "pygments_lexer": "ipython3",
   "version": "3.8.8"
  }
 },
 "nbformat": 4,
 "nbformat_minor": 5
}
