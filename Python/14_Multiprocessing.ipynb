{
 "cells": [
  {
   "cell_type": "markdown",
   "id": "1f056a84",
   "metadata": {},
   "source": [
    "#### Q1. What is multiprocessing in python? Why is it useful?"
   ]
  },
  {
   "cell_type": "markdown",
   "id": "f1390735",
   "metadata": {},
   "source": [
    "Multiprocessing in Python is a technique of parallel programming where multiple processes run simultaneously on a computer's multiple cores or CPUs to complete a task faster. The multiprocessing module in Python enables the creation, management, and communication between processes.\n",
    "\n",
    "Using multiprocessing in Python is useful because it can significantly speed up the execution time of CPU-intensive tasks by utilizing the available processing power of a computer. By breaking down a large task into smaller parts that can be processed simultaneously, multiprocessing can provide a significant performance improvement over traditional single-threaded programming."
   ]
  },
  {
   "cell_type": "markdown",
   "id": "d663d1a8",
   "metadata": {},
   "source": [
    "#### Q2. What are the differences between multiprocessing and multithreading?"
   ]
  },
  {
   "cell_type": "markdown",
   "id": "5c0ee467",
   "metadata": {},
   "source": [
    "Multiprocessing and multithreading are both techniques for achieving parallelism in programming, but they differ in several ways:\n",
    "\n",
    " * Resource utilization: Multiprocessing involves using multiple processors or CPU cores to execute different processes simultaneously, whereas multithreading involves using multiple threads to execute different parts of the same process simultaneously. Thus, multiprocessing tends to utilize more system resources than multithreading.\n",
    "\n",
    " * Memory isolation: Each process in multiprocessing has its own memory space, which is not shared with other processes, whereas all threads within a process share the same memory space. This can make multiprocessing more robust and less prone to memory-related issues.\n",
    "\n",
    " * Communication and synchronization: Communication between processes in multiprocessing usually requires more explicit communication and synchronization mechanisms, such as pipes or queues, whereas communication between threads within a process can be achieved more easily through shared memory or message passing.\n",
    "\n",
    " * Portability: Multiprocessing is generally more portable across different platforms and operating systems than multithreading, which can be more dependent on the underlying implementation of threads.\n",
    "\n",
    " * Performance: In some cases, multiprocessing can offer better performance than multithreading, especially for CPU-bound tasks that can benefit from parallel execution on multiple processors. However, for I/O-bound tasks or tasks that require frequent communication between threads, multithreading may be a better choice."
   ]
  },
  {
   "cell_type": "markdown",
   "id": "f5d99dac",
   "metadata": {},
   "source": [
    "#### Q3. Write a python code to create a process using the multiprocessing module."
   ]
  },
  {
   "cell_type": "code",
   "execution_count": 1,
   "id": "1258f84a",
   "metadata": {},
   "outputs": [
    {
     "name": "stdout",
     "output_type": "stream",
     "text": [
      "Main process is finished\n"
     ]
    }
   ],
   "source": [
    "import multiprocessing\n",
    "\n",
    "def my_function():\n",
    "    print(\"This is a child process\")\n",
    "\n",
    "if __name__ == '__main__':\n",
    "    # create a process\n",
    "    p = multiprocessing.Process(target=my_function)\n",
    "    \n",
    "    # start the process\n",
    "    p.start()\n",
    "    \n",
    "    # wait for the process to finish\n",
    "    p.join()\n",
    "    \n",
    "    print(\"Main process is finished\")\n"
   ]
  },
  {
   "cell_type": "markdown",
   "id": "7511eb72",
   "metadata": {},
   "source": [
    "#### Q4. What is a multiprocessing pool in python? Why is it used?"
   ]
  },
  {
   "cell_type": "markdown",
   "id": "a669b9de",
   "metadata": {},
   "source": [
    "A multiprocessing pool in Python is a way to create a group of worker processes that can execute tasks in parallel. The multiprocessing module provides a Pool class that can be used to create a pool of worker processes.\n",
    "\n",
    "The Pool class allows you to specify the number of worker processes to create. You can then submit tasks to the pool, and the pool will distribute the tasks among the worker processes."
   ]
  },
  {
   "cell_type": "markdown",
   "id": "e6849c2f",
   "metadata": {},
   "source": [
    "#### Q5. How can we create a pool of worker processes in python using the multiprocessing module?"
   ]
  },
  {
   "cell_type": "code",
   "execution_count": null,
   "id": "2566c44a",
   "metadata": {},
   "outputs": [],
   "source": [
    "import multiprocessing\n",
    "\n",
    "def my_function(x):\n",
    "    return x ** 2\n",
    "\n",
    "if __name__ == '__main__':\n",
    "    # create a pool of 4 worker processes\n",
    "    with multiprocessing.Pool(processes=4) as pool:\n",
    "        # apply the function to a list of inputs\n",
    "        results = pool.map(my_function, [1, 2, 3, 4, 5])\n",
    "        print(results)\n"
   ]
  },
  {
   "cell_type": "markdown",
   "id": "d26081c0",
   "metadata": {},
   "source": [
    "#### Q6. Write a python program to create 4 processes, each process should print a different number using the multiprocessing module in python."
   ]
  },
  {
   "cell_type": "code",
   "execution_count": null,
   "id": "108158db",
   "metadata": {},
   "outputs": [],
   "source": [
    "import multiprocessing\n",
    "\n",
    "def print_number(num):\n",
    "    print(f\"Process {multiprocessing.current_process().name} printing {num}\")\n",
    "\n",
    "if __name__ == '__main__':\n",
    "    # create a list of numbers\n",
    "    numbers = [1, 2, 3, 4]\n",
    "    \n",
    "    # create a list to hold the process objects\n",
    "    processes = []\n",
    "    \n",
    "    # create 4 processes, each with a different number\n",
    "    for i, num in enumerate(numbers):\n",
    "        process = multiprocessing.Process(target=print_number, args=(num,), name=f\"Process {i+1}\")\n",
    "        processes.append(process)\n",
    "    \n",
    "    # start the processes\n",
    "    for process in processes:\n",
    "        process.start()\n",
    "    \n",
    "    # wait for the processes to finish\n",
    "    for process in processes:\n",
    "        process.join()\n"
   ]
  }
 ],
 "metadata": {
  "kernelspec": {
   "display_name": "Python 3",
   "language": "python",
   "name": "python3"
  },
  "language_info": {
   "codemirror_mode": {
    "name": "ipython",
    "version": 3
   },
   "file_extension": ".py",
   "mimetype": "text/x-python",
   "name": "python",
   "nbconvert_exporter": "python",
   "pygments_lexer": "ipython3",
   "version": "3.8.8"
  }
 },
 "nbformat": 4,
 "nbformat_minor": 5
}
