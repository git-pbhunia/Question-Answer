{
 "cells": [
  {
   "cell_type": "markdown",
   "id": "534a4907",
   "metadata": {},
   "source": [
    "#### Q1. Create a vehicle class with an init method having instance variables as name_of_vehicle, max_speed and average_of_vehicle."
   ]
  },
  {
   "cell_type": "code",
   "execution_count": 34,
   "id": "bbc71713",
   "metadata": {},
   "outputs": [],
   "source": [
    "class Vehicle:\n",
    "    def __init__(self, name_of_vehicle, max_speed, average_of_vehicle):\n",
    "        self.name_of_vehicle = name_of_vehicle\n",
    "        self.max_speed = max_speed\n",
    "        self.average_of_vehicle = average_of_vehicle        \n",
    "    "
   ]
  },
  {
   "cell_type": "code",
   "execution_count": 35,
   "id": "5d60db3d",
   "metadata": {},
   "outputs": [],
   "source": [
    "car = Vehicle('Ford Mustang', 250, 20)\n"
   ]
  },
  {
   "cell_type": "markdown",
   "id": "8fc4844f",
   "metadata": {},
   "source": [
    "#### Q2. Create a child class car from the vehicle class created in Q1, which will inherit the vehicle class. Create a method named seating_capacity which takes capacity as an argument and returns the name of the vehicle and its seating capacity."
   ]
  },
  {
   "cell_type": "code",
   "execution_count": 36,
   "id": "d62cec43",
   "metadata": {},
   "outputs": [],
   "source": [
    "class Car(Vehicle):\n",
    "    def __init__(self, name_of_vehicle, max_speed, average_of_vehicle):\n",
    "        Vehicle.__init__(self, name_of_vehicle, max_speed, average_of_vehicle)\n",
    "    \n",
    "    def seating_capacity(self, capacity):\n",
    "        return f\"{self.name_of_vehicle} has a seating capacity of {capacity} people.\"\n",
    "        "
   ]
  },
  {
   "cell_type": "code",
   "execution_count": 37,
   "id": "5a65337f",
   "metadata": {},
   "outputs": [
    {
     "name": "stdout",
     "output_type": "stream",
     "text": [
      "Ford has a seating capacity of 4 people.\n"
     ]
    }
   ],
   "source": [
    "car = Car('Ford', 250, 20)\n",
    "print(car.seating_capacity(4))\n"
   ]
  },
  {
   "cell_type": "markdown",
   "id": "d3d4d384",
   "metadata": {},
   "source": [
    "#### Q3. What is multiple inheritance? Write a python code to demonstrate multiple inheritance."
   ]
  },
  {
   "cell_type": "markdown",
   "id": "ddecb339",
   "metadata": {},
   "source": [
    "Multiple inheritance is a feature in object-oriented programming where a subclass can inherit from multiple superclasses. This allows the subclass to have access to all the methods and attributes of its parent classes."
   ]
  },
  {
   "cell_type": "code",
   "execution_count": 38,
   "id": "118b9a17",
   "metadata": {},
   "outputs": [],
   "source": [
    "class Vehicle:\n",
    "    def __init__(self, name, max_speed):\n",
    "        self.name = name\n",
    "        self.max_speed = max_speed\n",
    "    \n",
    "    def get_info(self):\n",
    "        return f\"{self.name} can go up to {self.max_speed} km/h.\"\n",
    "\n",
    "class Electric:\n",
    "    def __init__(self, battery_size):\n",
    "        self.battery_size = battery_size\n",
    "    \n",
    "    def get_range(self):\n",
    "        range = self.battery_size * 5\n",
    "        return f\"This vehicle can go up to {range} km on a single charge.\"\n",
    "\n",
    "class ElectricCar(Vehicle, Electric):\n",
    "    def __init__(self, name, max_speed, battery_size):\n",
    "        Vehicle.__init__(self, name, max_speed)\n",
    "        Electric.__init__(self, battery_size)\n",
    "    \n",
    "    def get_info(self):\n",
    "        return f\"{self.name} has a maximum speed of {self.max_speed} km/h and a battery size of {self.battery_size} kWh.\"\n"
   ]
  },
  {
   "cell_type": "code",
   "execution_count": 39,
   "id": "43467557",
   "metadata": {},
   "outputs": [
    {
     "name": "stdout",
     "output_type": "stream",
     "text": [
      "Tesla Model S has a maximum speed of 250 km/h and a battery size of 85 kWh.\n",
      "This vehicle can go up to 425 km on a single charge.\n"
     ]
    }
   ],
   "source": [
    "my_car = ElectricCar(\"Tesla Model S\", 250, 85)\n",
    "print(my_car.get_info())\n",
    "print(my_car.get_range())\n"
   ]
  },
  {
   "cell_type": "markdown",
   "id": "10a4e7e9",
   "metadata": {},
   "source": [
    "#### Q4. What are getter and setter in python? Create a class and create a getter and a setter method in this class."
   ]
  },
  {
   "cell_type": "markdown",
   "id": "6d7753bf",
   "metadata": {},
   "source": [
    "In Python, getters and setters are methods used to retrieve and set the values of private attributes. Private attributes are those attributes that are not meant to be accessed or modified directly from outside the class. Getters and setters provide a way to control the access to these private attributes."
   ]
  },
  {
   "cell_type": "code",
   "execution_count": 22,
   "id": "058b1aa1",
   "metadata": {},
   "outputs": [],
   "source": [
    "class Person:\n",
    "    def __init__(self, name, age):\n",
    "        self._name = name\n",
    "        self._age = age\n",
    "    \n",
    "    def get_name(self):\n",
    "        return self._name\n",
    "    \n",
    "    def set_name(self, name):\n",
    "        self._name = name\n",
    "    \n",
    "    def get_age(self):\n",
    "        return self._age\n",
    "    \n",
    "    def set_age(self, age):\n",
    "        if age > 0:\n",
    "            self._age = age\n",
    "    "
   ]
  },
  {
   "cell_type": "code",
   "execution_count": 43,
   "id": "4b4bc5fc",
   "metadata": {},
   "outputs": [
    {
     "name": "stdout",
     "output_type": "stream",
     "text": [
      "John\n",
      "30\n"
     ]
    }
   ],
   "source": [
    "person = Person(\"John\", 30)\n",
    "print(person.get_name())\n",
    "print(person.get_age())\n"
   ]
  },
  {
   "cell_type": "code",
   "execution_count": 42,
   "id": "35ac0cd3",
   "metadata": {},
   "outputs": [
    {
     "name": "stdout",
     "output_type": "stream",
     "text": [
      "Mary\n"
     ]
    }
   ],
   "source": [
    "person.set_name(\"Mary\")\n",
    "print(person.get_name())\n"
   ]
  },
  {
   "cell_type": "code",
   "execution_count": 45,
   "id": "a9b57854",
   "metadata": {},
   "outputs": [
    {
     "name": "stdout",
     "output_type": "stream",
     "text": [
      "30\n"
     ]
    }
   ],
   "source": [
    "person.set_age(-5)\n",
    "print(person.get_age())\n"
   ]
  },
  {
   "cell_type": "code",
   "execution_count": 46,
   "id": "161e11fd",
   "metadata": {},
   "outputs": [
    {
     "name": "stdout",
     "output_type": "stream",
     "text": [
      "40\n"
     ]
    }
   ],
   "source": [
    "person.set_age(40)\n",
    "print(person.get_age())\n"
   ]
  },
  {
   "cell_type": "markdown",
   "id": "faed9332",
   "metadata": {},
   "source": [
    "#### Q5. What is method overriding in python? Write a python code to demonstrate method overriding."
   ]
  },
  {
   "cell_type": "markdown",
   "id": "f7fde76b",
   "metadata": {},
   "source": [
    "Method overriding is a concept in object-oriented programming where a subclass provides its own implementation of a method that is already defined in its superclass. The overridden method has the same name, parameters, and return type as the method in the superclass, but provides a different implementation."
   ]
  },
  {
   "cell_type": "code",
   "execution_count": 47,
   "id": "aca82b99",
   "metadata": {},
   "outputs": [],
   "source": [
    "class Animal:\n",
    "    def make_sound(self):\n",
    "        print(\"The animal makes a sound\")\n",
    "\n",
    "class Dog(Animal):\n",
    "    def make_sound(self):\n",
    "        print(\"The dog barks\")\n",
    "\n",
    "class Cat(Animal):\n",
    "    def make_sound(self):\n",
    "        print(\"The cat meows\")\n"
   ]
  },
  {
   "cell_type": "code",
   "execution_count": 48,
   "id": "7dafce20",
   "metadata": {},
   "outputs": [
    {
     "name": "stdout",
     "output_type": "stream",
     "text": [
      "The animal makes a sound\n",
      "The dog barks\n",
      "The cat meows\n"
     ]
    }
   ],
   "source": [
    "animal = Animal()\n",
    "dog = Dog()\n",
    "cat = Cat()\n",
    "\n",
    "animal.make_sound()\n",
    "dog.make_sound()\n",
    "cat.make_sound() \n"
   ]
  }
 ],
 "metadata": {
  "kernelspec": {
   "display_name": "Python 3",
   "language": "python",
   "name": "python3"
  },
  "language_info": {
   "codemirror_mode": {
    "name": "ipython",
    "version": 3
   },
   "file_extension": ".py",
   "mimetype": "text/x-python",
   "name": "python",
   "nbconvert_exporter": "python",
   "pygments_lexer": "ipython3",
   "version": "3.8.8"
  }
 },
 "nbformat": 4,
 "nbformat_minor": 5
}
