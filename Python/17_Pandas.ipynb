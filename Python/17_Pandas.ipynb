{
 "cells": [
  {
   "cell_type": "markdown",
   "id": "1f02fd63",
   "metadata": {},
   "source": [
    "#### Q1. Create a Pandas Series that contains the following data: 4, 8, 15, 16, 23, and 42. Then, print the series."
   ]
  },
  {
   "cell_type": "code",
   "execution_count": 2,
   "id": "c4087f6a",
   "metadata": {},
   "outputs": [
    {
     "name": "stdout",
     "output_type": "stream",
     "text": [
      "0     4\n",
      "1     8\n",
      "2    15\n",
      "3    16\n",
      "4    23\n",
      "5    42\n",
      "dtype: int64\n"
     ]
    }
   ],
   "source": [
    "import pandas as pd\n",
    "\n",
    "# Create the series\n",
    "series = pd.Series([4, 8, 15, 16, 23, 42])\n",
    "\n",
    "# Print the series\n",
    "print(series)\n"
   ]
  },
  {
   "cell_type": "markdown",
   "id": "10004abf",
   "metadata": {},
   "source": [
    "#### Q2. Create a variable of list type containing 10 elements in it, and apply pandas.Series function on the variable print it."
   ]
  },
  {
   "cell_type": "code",
   "execution_count": 3,
   "id": "2e6ba040",
   "metadata": {},
   "outputs": [
    {
     "name": "stdout",
     "output_type": "stream",
     "text": [
      "0     1\n",
      "1     2\n",
      "2     3\n",
      "3     4\n",
      "4     5\n",
      "5     6\n",
      "6     7\n",
      "7     8\n",
      "8     9\n",
      "9    10\n",
      "dtype: int64\n"
     ]
    }
   ],
   "source": [
    "import pandas as pd\n",
    "\n",
    "# Create a list\n",
    "my_list = [1, 2, 3, 4, 5, 6, 7, 8, 9, 10]\n",
    "\n",
    "# Create a Pandas series from the list\n",
    "my_series = pd.Series(my_list)\n",
    "\n",
    "# Print the series\n",
    "print(my_series)\n"
   ]
  },
  {
   "attachments": {
    "image.png": {
     "image/png": "[encoded data removed]"
    }
   },
   "cell_type": "markdown",
   "id": "fca663ab",
   "metadata": {},
   "source": [
    "#### Q3. Create a Pandas DataFrame that contains the below given data and then, print the DataFrame.\n",
    "![image.png](attachment:image.png)"
   ]
  },
  {
   "cell_type": "code",
   "execution_count": 4,
   "id": "2a0f98a5",
   "metadata": {},
   "outputs": [
    {
     "name": "stdout",
     "output_type": "stream",
     "text": [
      "     Name  Age  Gender\n",
      "0   Alice   25  Female\n",
      "1     Bob   30    Male\n",
      "2  Claire   27  Female\n"
     ]
    }
   ],
   "source": [
    "import pandas as pd\n",
    "\n",
    "# Create a dict of the data\n",
    "data = {\"Name\":[\"Alice\",\"Bob\",\"Claire\"], \"Age\":[25,30,27], \"Gender\":[\"Female\",\"Male\",\"Female\"]}\n",
    "\n",
    "# Create the df\n",
    "df = pd.DataFrame(data)\n",
    "\n",
    "# Print the df\n",
    "print(df)\n"
   ]
  },
  {
   "cell_type": "markdown",
   "id": "d64685ab",
   "metadata": {},
   "source": [
    "#### Q4. What is ‘DataFrame’ in pandas and how is it different from pandas.series? Explain with an example."
   ]
  },
  {
   "cell_type": "markdown",
   "id": "ffdfda02",
   "metadata": {},
   "source": [
    "DataFrame is a two-dimensional table-like data structure in pandas, consisting of rows and columns. It is similar to a spreadsheet or a SQL table. Each column in a DataFrame is a Pandas Series, while each row in a DataFrame is a collection of values corresponding to each column."
   ]
  },
  {
   "cell_type": "code",
   "execution_count": 9,
   "id": "b6868600",
   "metadata": {},
   "outputs": [
    {
     "name": "stdout",
     "output_type": "stream",
     "text": [
      "0    10\n",
      "1    20\n",
      "2    30\n",
      "3    40\n",
      "4    50\n",
      "dtype: int64\n",
      "      Name  Age  Salary\n",
      "0    Alice   25   50000\n",
      "1      Bob   30   60000\n",
      "2  Charlie   35   70000\n",
      "3     Dave   40   80000\n",
      "4      Eve   45   90000\n"
     ]
    }
   ],
   "source": [
    "#Example\n",
    "\n",
    "import pandas as pd\n",
    "\n",
    "# Creating a Series\n",
    "my_series = pd.Series([10, 20, 30, 40, 50])\n",
    "\n",
    "# Creating a DataFrame\n",
    "my_df = pd.DataFrame({\n",
    "    'Name': ['Alice', 'Bob', 'Charlie', 'Dave', 'Eve'],\n",
    "    'Age': [25, 30, 35, 40, 45],\n",
    "    'Salary': [50000, 60000, 70000, 80000, 90000]\n",
    "})\n",
    "\n",
    "# Printing the Series and DataFrame\n",
    "print(my_series)\n",
    "print(my_df)\n"
   ]
  },
  {
   "cell_type": "markdown",
   "id": "6270fa32",
   "metadata": {},
   "source": [
    "#### Q5. What are some common functions you can use to manipulate data in a Pandas DataFrame? Can you give an example of when you might use one of these functions?"
   ]
  },
  {
   "cell_type": "markdown",
   "id": "644e661a",
   "metadata": {},
   "source": [
    "Pandas provides a rich set of functions to manipulate data in a DataFrame. Some of the most common functions that you can use to manipulate data in a Pandas DataFrame are:\n",
    "\n",
    " * head(): Returns the first n rows of a DataFrame. This function is useful when you want to quickly inspect the data in a DataFrame.\n",
    "\n",
    " * tail(): Returns the last n rows of a DataFrame. This function is useful when you want to quickly inspect the end of the data in a DataFrame.\n",
    "\n",
    " * describe(): Generates a summary of statistics for the numeric columns in a DataFrame, such as count, mean, standard deviation, minimum, maximum, and quartiles.\n",
    "\n",
    " * groupby(): Groups the rows in a DataFrame by one or more columns and allows you to apply aggregate functions, such as sum, mean, and count, to each group. This function is useful when you want to calculate summary statistics for different subsets of your data.\n",
    "\n",
    " * drop(): Removes a column or row from a DataFrame. This function is useful when you want to remove unnecessary data from your DataFrame.\n",
    "\n",
    " * sort_values(): Sorts the rows in a DataFrame by one or more columns. This function is useful when you want to sort your data by a specific column.\n",
    "\n",
    " * fillna(): Replaces missing values in a DataFrame with a specified value. This function is useful when you want to fill in missing data in your DataFrame.\n",
    " "
   ]
  },
  {
   "cell_type": "code",
   "execution_count": 10,
   "id": "b9c46e04",
   "metadata": {},
   "outputs": [
    {
     "name": "stdout",
     "output_type": "stream",
     "text": [
      "Product\n",
      "A    175\n",
      "B    450\n",
      "C    350\n",
      "Name: Sales, dtype: int64\n"
     ]
    }
   ],
   "source": [
    "#Example\n",
    "\n",
    "import pandas as pd\n",
    "\n",
    "# Create a DataFrame\n",
    "df = pd.DataFrame({\n",
    "    'Product': ['A', 'B', 'C', 'A', 'B', 'C'],\n",
    "    'Sales': [100, 200, 150, 75, 250, 200]\n",
    "})\n",
    "\n",
    "# Group the rows by Product and calculate the total sales\n",
    "total_sales = df.groupby('Product')['Sales'].sum()\n",
    "\n",
    "# Print the total sales\n",
    "print(total_sales)\n"
   ]
  },
  {
   "cell_type": "markdown",
   "id": "96f48979",
   "metadata": {},
   "source": [
    "#### Q6. Which of the following is mutable in nature Series, DataFrame, Panel?"
   ]
  },
  {
   "cell_type": "markdown",
   "id": "bd483692",
   "metadata": {},
   "source": [
    "In Pandas, both Series and DataFrame are mutable in nature, while Panel is mutable only in its items (i.e., the underlying data in each DataFrame of the Panel).\n",
    "\n",
    "In other words, you can modify the data in a Series or a DataFrame after it has been created by changing or adding new elements. However, in a Panel, you can only modify the underlying data in each DataFrame of the Panel, but you cannot modify the structure of the Panel itself."
   ]
  },
  {
   "cell_type": "markdown",
   "id": "00342b42",
   "metadata": {},
   "source": [
    "#### Q7. Create a DataFrame using multiple Series. Explain with an example."
   ]
  },
  {
   "cell_type": "code",
   "execution_count": 11,
   "id": "e0c58a2d",
   "metadata": {},
   "outputs": [
    {
     "name": "stdout",
     "output_type": "stream",
     "text": [
      "      Name  Age      City\n",
      "0    Alice   25  New York\n",
      "1      Bob   30    London\n",
      "2  Charlie   35     Paris\n"
     ]
    }
   ],
   "source": [
    "import pandas as pd\n",
    "\n",
    "# create a dictionary of Series\n",
    "data = {'Name': pd.Series(['Alice', 'Bob', 'Charlie']),\n",
    "        'Age': pd.Series([25, 30, 35]),\n",
    "        'City': pd.Series(['New York', 'London', 'Paris'])}\n",
    "\n",
    "# create a DataFrame from the dictionary\n",
    "df = pd.DataFrame(data)\n",
    "\n",
    "# print the DataFrame\n",
    "print(df)\n"
   ]
  },
  {
   "cell_type": "markdown",
   "id": "41809192",
   "metadata": {},
   "source": [
    "Here, we first create a dictionary data with three keys (Name, Age, City) and three values (each a Series with three elements). We then pass this dictionary to the pd.DataFrame() function to create a DataFrame df. The resulting DataFrame has three columns (Name, Age, City) and three rows (0 to 2), with the data from the three Series combined."
   ]
  }
 ],
 "metadata": {
  "kernelspec": {
   "display_name": "Python 3",
   "language": "python",
   "name": "python3"
  },
  "language_info": {
   "codemirror_mode": {
    "name": "ipython",
    "version": 3
   },
   "file_extension": ".py",
   "mimetype": "text/x-python",
   "name": "python",
   "nbconvert_exporter": "python",
   "pygments_lexer": "ipython3",
   "version": "3.8.8"
  }
 },
 "nbformat": 4,
 "nbformat_minor": 5
}
