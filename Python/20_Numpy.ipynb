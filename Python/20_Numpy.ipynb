{
 "cells": [
  {
   "cell_type": "markdown",
   "id": "bc2ae634",
   "metadata": {},
   "source": [
    "#### Consider the below code to answer further questions:"
   ]
  },
  {
   "cell_type": "code",
   "execution_count": 2,
   "id": "111a22d9",
   "metadata": {},
   "outputs": [],
   "source": [
    "import numpy as np\n",
    "\n",
    "list_ = ['1','2','3','4','5']\n",
    "\n",
    "array_list = np.array(object = list_)"
   ]
  },
  {
   "cell_type": "markdown",
   "id": "8a3e5de6",
   "metadata": {},
   "source": [
    "#### Q1. Is there any difference in the data type of variables list_ and array_list? If there is then write a code to print the data types of both the variables."
   ]
  },
  {
   "cell_type": "markdown",
   "id": "113999ff",
   "metadata": {},
   "source": [
    "Yes, there is a difference in the data type of variables list_ and array_list. The variable 'list_' is a Python list, whereas 'array_list' is a NumPy array.\n",
    "\n",
    "To print the data types of both variables, we can use the built-in type() function in Python:"
   ]
  },
  {
   "cell_type": "code",
   "execution_count": 3,
   "id": "53327480",
   "metadata": {},
   "outputs": [
    {
     "name": "stdout",
     "output_type": "stream",
     "text": [
      "<class 'list'>\n",
      "<class 'numpy.ndarray'>\n"
     ]
    }
   ],
   "source": [
    "print(type(list_))\n",
    "print(type(array_list))\n"
   ]
  },
  {
   "cell_type": "markdown",
   "id": "0a3875bc",
   "metadata": {},
   "source": [
    "#### Q2. Write a code to print the data type of each and every element of both the variables list_ and array_list."
   ]
  },
  {
   "cell_type": "markdown",
   "id": "9f793445",
   "metadata": {},
   "source": [
    "Since the elements of the list_ are of type string, the data type of each element will be str. The elements of the array_list are also string type, but they are represented as numpy.str_.\n",
    "\n",
    "To print the data type of each element of list_, we can use a for loop and the type() function. To print the data type of each element of array_list, we can use the dtype attribute of NumPy arrays."
   ]
  },
  {
   "cell_type": "code",
   "execution_count": 4,
   "id": "3038ba30",
   "metadata": {},
   "outputs": [
    {
     "name": "stdout",
     "output_type": "stream",
     "text": [
      "<class 'str'>\n",
      "<class 'str'>\n",
      "<class 'str'>\n",
      "<class 'str'>\n",
      "<class 'str'>\n"
     ]
    }
   ],
   "source": [
    "for element in list_:\n",
    "    print(type(element))\n"
   ]
  },
  {
   "cell_type": "code",
   "execution_count": 5,
   "id": "11a72c39",
   "metadata": {},
   "outputs": [
    {
     "name": "stdout",
     "output_type": "stream",
     "text": [
      "<U1\n",
      "<U1\n",
      "<U1\n",
      "<U1\n",
      "<U1\n"
     ]
    }
   ],
   "source": [
    "for element in array_list:\n",
    "    print(element.dtype)\n"
   ]
  },
  {
   "cell_type": "markdown",
   "id": "89986b63",
   "metadata": {},
   "source": [
    "#### Q3. Considering the following changes in the variable, array_list:"
   ]
  },
  {
   "cell_type": "code",
   "execution_count": 6,
   "id": "53ec03f7",
   "metadata": {},
   "outputs": [],
   "source": [
    "array_list = np.array(object = list_, dtype = int)"
   ]
  },
  {
   "cell_type": "markdown",
   "id": "5e3002e3",
   "metadata": {},
   "source": [
    "Will there be any difference in the data type of the elements present in both the variables, list_ and\n",
    "array_list? If so then print the data types of each and every element present in both the variables, list_\n",
    "and array_list."
   ]
  },
  {
   "cell_type": "code",
   "execution_count": 9,
   "id": "4e03d3de",
   "metadata": {},
   "outputs": [
    {
     "name": "stdout",
     "output_type": "stream",
     "text": [
      "Data type of elements in list_\n",
      "<class 'str'>\n",
      "<class 'str'>\n",
      "<class 'str'>\n",
      "<class 'str'>\n",
      "<class 'str'>\n",
      "\n",
      "Data type of elements in array_list\n",
      "<class 'numpy.int32'>\n",
      "<class 'numpy.int32'>\n",
      "<class 'numpy.int32'>\n",
      "<class 'numpy.int32'>\n",
      "<class 'numpy.int32'>\n"
     ]
    }
   ],
   "source": [
    "import numpy as np\n",
    "\n",
    "list_ = ['1', '2', '3', '4', '5']\n",
    "array_list = np.array(object=list_, dtype=int)\n",
    "\n",
    "print(\"Data type of elements in list_\")\n",
    "for element in list_:\n",
    "    print(type(element))\n",
    "\n",
    "print(\"\\nData type of elements in array_list\")\n",
    "for element in array_list:\n",
    "    print(type(element))\n"
   ]
  },
  {
   "cell_type": "markdown",
   "id": "8a621c83",
   "metadata": {},
   "source": [
    "#### Consider the below code to answer further questions:"
   ]
  },
  {
   "cell_type": "code",
   "execution_count": 11,
   "id": "d7322a4d",
   "metadata": {},
   "outputs": [],
   "source": [
    "import numpy as np\n",
    "\n",
    "num_list = [ [ 1 , 2 , 3 ] , [ 4 , 5 , 6 ] ]\n",
    "\n",
    "num_array = np.array(object = num_list)"
   ]
  },
  {
   "cell_type": "markdown",
   "id": "3b0df843",
   "metadata": {},
   "source": [
    "#### Q4. Write a code to find the following characteristics of variable, num_array:\n",
    "\n",
    "(i) shape\n",
    "\n",
    "(ii) size"
   ]
  },
  {
   "cell_type": "code",
   "execution_count": 12,
   "id": "9dd40df9",
   "metadata": {},
   "outputs": [
    {
     "name": "stdout",
     "output_type": "stream",
     "text": [
      "Shape: (2, 3)\n",
      "Size: 6\n"
     ]
    }
   ],
   "source": [
    "print(\"Shape:\", num_array.shape)\n",
    "print(\"Size:\", num_array.size)\n"
   ]
  },
  {
   "cell_type": "markdown",
   "id": "142635c2",
   "metadata": {},
   "source": [
    "#### Q5. Write a code to create numpy array of 3*3 matrix containing zeros only, using a numpy array creation function.\n",
    "\n",
    "[Hint: The size of the array will be 9 and the shape will be (3,3)]"
   ]
  },
  {
   "cell_type": "code",
   "execution_count": 13,
   "id": "4f216b6c",
   "metadata": {},
   "outputs": [
    {
     "name": "stdout",
     "output_type": "stream",
     "text": [
      "[[0. 0. 0.]\n",
      " [0. 0. 0.]\n",
      " [0. 0. 0.]]\n"
     ]
    }
   ],
   "source": [
    "import numpy as np\n",
    "\n",
    "zeros_array = np.zeros((3, 3))\n",
    "print(zeros_array)\n"
   ]
  },
  {
   "cell_type": "markdown",
   "id": "40c3a7e6",
   "metadata": {},
   "source": [
    "#### Q6. Create an identity matrix of shape (5,5) using numpy functions?\n",
    "\n",
    "[Hint: An identity matrix is a matrix containing 1 diagonally and other elements will be 0]"
   ]
  },
  {
   "cell_type": "code",
   "execution_count": 14,
   "id": "5f8f4044",
   "metadata": {},
   "outputs": [
    {
     "name": "stdout",
     "output_type": "stream",
     "text": [
      "[[1. 0. 0. 0. 0.]\n",
      " [0. 1. 0. 0. 0.]\n",
      " [0. 0. 1. 0. 0.]\n",
      " [0. 0. 0. 1. 0.]\n",
      " [0. 0. 0. 0. 1.]]\n"
     ]
    }
   ],
   "source": [
    "import numpy as np\n",
    "\n",
    "identity_matrix = np.identity(5)\n",
    "print(identity_matrix)\n"
   ]
  }
 ],
 "metadata": {
  "kernelspec": {
   "display_name": "Python 3",
   "language": "python",
   "name": "python3"
  },
  "language_info": {
   "codemirror_mode": {
    "name": "ipython",
    "version": 3
   },
   "file_extension": ".py",
   "mimetype": "text/x-python",
   "name": "python",
   "nbconvert_exporter": "python",
   "pygments_lexer": "ipython3",
   "version": "3.8.8"
  }
 },
 "nbformat": 4,
 "nbformat_minor": 5
}
