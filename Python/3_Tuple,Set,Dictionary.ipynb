{
 "cells": [
  {
   "cell_type": "markdown",
   "id": "0acc69f0",
   "metadata": {},
   "source": [
    "#### Q1. What are the characteristics of the tuples? Is tuple immutable?"
   ]
  },
  {
   "cell_type": "markdown",
   "id": "2b76f371",
   "metadata": {},
   "source": [
    "Yes, tuples are immutable in Python. This means that once a tuple is created, its elements cannot be changed. Here are some of the characteristics of tuples in Python:\n",
    " 1. Order: Tuples maintain the order of elements, just like lists.\n",
    " 2. Indexing: Elements in a tuple can be accessed using indexing, just like lists.\n",
    " 3. Heterogeneous data: Tuples can contain elements of different data types, just like lists.\n",
    " 4. Immutability: Once a tuple is created, its elements cannot be changed, added, or removed.\n",
    " 5. Iterable: Tuples are iterable, meaning you can iterate through its elements using a loop.\n",
    " 6. Use of parentheses: Tuples are defined using parentheses (), while lists are defined using square brackets []."
   ]
  },
  {
   "cell_type": "markdown",
   "id": "d7fb1c4f",
   "metadata": {},
   "source": [
    "#### Q2. What are the two tuple methods in python? Give an example of each method. Give a reason why tuples have only two in-built methods as compared to Lists."
   ]
  },
  {
   "cell_type": "markdown",
   "id": "a9b1f401",
   "metadata": {},
   "source": [
    "There are two in-built methods in Python tuple data structure:\n",
    "\n",
    " 1. count() method: This method returns the number of occurrences of a specified element in the tuple."
   ]
  },
  {
   "cell_type": "code",
   "execution_count": 1,
   "id": "09aa402e",
   "metadata": {},
   "outputs": [
    {
     "name": "stdout",
     "output_type": "stream",
     "text": [
      "The count of 5 in the tuple is:  1\n"
     ]
    }
   ],
   "source": [
    "#Example\n",
    "\n",
    "tuple = (1, 2, 3, 4, 5, 6, 7, 8, 9)\n",
    "count = tuple.count(5)\n",
    "\n",
    "print(\"The count of 5 in the tuple is: \", count)\n"
   ]
  },
  {
   "cell_type": "markdown",
   "id": "df8d961d",
   "metadata": {},
   "source": [
    " 2. index() method: This method returns the index of the first occurrence of the specified element in the tuple."
   ]
  },
  {
   "cell_type": "code",
   "execution_count": 2,
   "id": "d339f3a2",
   "metadata": {},
   "outputs": [
    {
     "name": "stdout",
     "output_type": "stream",
     "text": [
      "The index of 5 in the tuple is:  4\n"
     ]
    }
   ],
   "source": [
    "#Example\n",
    "\n",
    "tuple = (1, 2, 3, 4, 5, 6, 7, 8, 9)\n",
    "index = tuple.index(5)\n",
    "\n",
    "print(\"The index of 5 in the tuple is: \", index)\n"
   ]
  },
  {
   "cell_type": "markdown",
   "id": "ab2d2a28",
   "metadata": {},
   "source": [
    "Tuples have only two in-built methods because they are immutable and their elements cannot be modified. The purpose of tuples is to store multiple items in a single, immutable structure, so the methods available on tuples are limited to retrieving information from them. Lists, on the other hand, are mutable, so they have more methods for modifying the elements within the list."
   ]
  },
  {
   "cell_type": "markdown",
   "id": "b9f7849c",
   "metadata": {},
   "source": [
    "#### Q3. Which collection datatypes in python do not allow duplicate items? Write a code using a set to remove duplicates from the given list."
   ]
  },
  {
   "cell_type": "markdown",
   "id": "a5a50c53",
   "metadata": {},
   "source": [
    "In Python, the set collection data type does not allow duplicate items. It is an unordered collection data type that is iterable, mutable, and has no duplicates."
   ]
  },
  {
   "cell_type": "code",
   "execution_count": 3,
   "id": "9319452f",
   "metadata": {},
   "outputs": [
    {
     "name": "stdout",
     "output_type": "stream",
     "text": [
      "Unique numbers:  [1, 2, 3, 4]\n"
     ]
    }
   ],
   "source": [
    "#Example\n",
    "\n",
    "# input list with duplicates\n",
    "numbers = [1, 1, 1, 2, 1, 3, 1, 4, 2, 1, 2, 2, 2, 3, 2, 4, 3, 1, 3, 2, 3, 3, 3, 4, 4, 1, 4, 2, 4, 3, 4, 4]\n",
    "\n",
    "# convert list to set to remove duplicates\n",
    "unique_numbers = set(numbers)\n",
    "\n",
    "# convert set back to list\n",
    "unique_numbers = list(unique_numbers)\n",
    "\n",
    "print(\"Unique numbers: \", unique_numbers)\n"
   ]
  },
  {
   "cell_type": "markdown",
   "id": "a3993fef",
   "metadata": {},
   "source": [
    "#### Q4. Explain the difference between the union() and update() methods for a set. Give an example of each method."
   ]
  },
  {
   "cell_type": "markdown",
   "id": "c1f7daad",
   "metadata": {},
   "source": [
    "The union() and update() methods are used to combine two sets in Python, but they work differently.\n",
    "\n",
    " 1. union() method: The union() method returns a new set that contains all the elements from both sets, without any duplicates. The original sets are not modified."
   ]
  },
  {
   "cell_type": "code",
   "execution_count": 4,
   "id": "b853271f",
   "metadata": {},
   "outputs": [
    {
     "name": "stdout",
     "output_type": "stream",
     "text": [
      "Resultant set after union:  {1, 2, 3, 4, 5, 6}\n"
     ]
    }
   ],
   "source": [
    "#Example\n",
    "\n",
    "set1 = {1, 2, 3, 4}\n",
    "set2 = {3, 4, 5, 6}\n",
    "\n",
    "# union of two sets\n",
    "result = set1.union(set2)\n",
    "\n",
    "print(\"Resultant set after union: \", result)\n"
   ]
  },
  {
   "cell_type": "markdown",
   "id": "df6cbdda",
   "metadata": {},
   "source": [
    " 2. update() method: The update() method adds all the elements from one set to another set. Unlike union(), the update() method modifies the original set."
   ]
  },
  {
   "cell_type": "code",
   "execution_count": 5,
   "id": "232b92c2",
   "metadata": {},
   "outputs": [
    {
     "name": "stdout",
     "output_type": "stream",
     "text": [
      "Resultant set after update:  {1, 2, 3, 4, 5, 6}\n"
     ]
    }
   ],
   "source": [
    "#Example\n",
    "\n",
    "set1 = {1, 2, 3, 4}\n",
    "set2 = {3, 4, 5, 6}\n",
    "\n",
    "# update set1 with elements from set2\n",
    "set1.update(set2)\n",
    "\n",
    "print(\"Resultant set after update: \", set1)\n"
   ]
  },
  {
   "cell_type": "markdown",
   "id": "5b771de5",
   "metadata": {},
   "source": [
    "#### Q5. What is a dictionary? Give an example. Also, state whether a dictionary is ordered or unordered."
   ]
  },
  {
   "cell_type": "markdown",
   "id": "1faf8550",
   "metadata": {},
   "source": [
    "A dictionary in Python is a collection data type that stores key-value pairs. A key is used to access the corresponding value in the dictionary."
   ]
  },
  {
   "cell_type": "code",
   "execution_count": 6,
   "id": "cfb6c0e1",
   "metadata": {},
   "outputs": [
    {
     "name": "stdout",
     "output_type": "stream",
     "text": [
      "Name:  John\n",
      "Age:  25\n",
      "Course:  Computer Science\n"
     ]
    }
   ],
   "source": [
    "#Example\n",
    "\n",
    "# create a dictionary\n",
    "student = {'name': 'John', 'age': 25, 'course': 'Computer Science'}\n",
    "\n",
    "# access value using key\n",
    "print(\"Name: \", student['name'])\n",
    "print(\"Age: \", student['age'])\n",
    "print(\"Course: \", student['course'])\n"
   ]
  },
  {
   "cell_type": "markdown",
   "id": "65953bd2",
   "metadata": {},
   "source": [
    "In Python, dictionaries are unordered. This means that the items in a dictionary do not have a specific index or order, and they are stored and retrieved based on their keys."
   ]
  },
  {
   "cell_type": "markdown",
   "id": "c7e3f411",
   "metadata": {},
   "source": [
    "#### Q6. Can we create a nested dictionary? If so, please give an example by creating a simple one-level nested dictionary."
   ]
  },
  {
   "cell_type": "markdown",
   "id": "6e190348",
   "metadata": {},
   "source": [
    "Yes, in Python, you can create a nested dictionary, which means that a dictionary can contain another dictionary as a value."
   ]
  },
  {
   "cell_type": "code",
   "execution_count": 7,
   "id": "d081c6dc",
   "metadata": {},
   "outputs": [
    {
     "name": "stdout",
     "output_type": "stream",
     "text": [
      "Name of employee 1:  John\n",
      "Age of employee 2:  30\n"
     ]
    }
   ],
   "source": [
    "#Example\n",
    "\n",
    "# create a one-level nested dictionary\n",
    "employees = {'employee1': {'name': 'John', 'age': 25, 'course': 'Computer Science'},\n",
    "             'employee2': {'name': 'Jane', 'age': 30, 'course': 'Data Science'}}\n",
    "\n",
    "# access value using keys\n",
    "print(\"Name of employee 1: \", employees['employee1']['name'])\n",
    "print(\"Age of employee 2: \", employees['employee2']['age'])\n"
   ]
  },
  {
   "cell_type": "markdown",
   "id": "2a68d99a",
   "metadata": {},
   "source": [
    "#### Q7. Using setdefault() method, create key named topics in the given dictionary and also add the value of the key as this list ['Python', 'Machine Learning’, 'Deep Learning']"
   ]
  },
  {
   "cell_type": "markdown",
   "id": "abf60694",
   "metadata": {},
   "source": [
    "The setdefault() method in Python is used to insert a key with a default value in a dictionary if the key does not exist in the dictionary."
   ]
  },
  {
   "cell_type": "code",
   "execution_count": 8,
   "id": "834ab25c",
   "metadata": {},
   "outputs": [
    {
     "name": "stdout",
     "output_type": "stream",
     "text": [
      "{'language': 'Python', 'course': 'Data Science Masters', 'topics': ['Python', 'Machine Learning', 'Deep Learning']}\n"
     ]
    }
   ],
   "source": [
    "#Example\n",
    "\n",
    "# create a dictionary\n",
    "dict1 = {'language' : 'Python', 'course': 'Data Science Masters'}\n",
    "\n",
    "# use setdefault() method to add a key named 'topics'\n",
    "dict1.setdefault('topics', ['Python', 'Machine Learning', 'Deep Learning'])\n",
    "\n",
    "print(dict1)\n"
   ]
  },
  {
   "cell_type": "markdown",
   "id": "a4adea96",
   "metadata": {},
   "source": [
    "#### Q8. What are the three view objects in dictionaries? Use the three in-built methods in python to display these three view objects for the given dictionary."
   ]
  },
  {
   "cell_type": "markdown",
   "id": "d9220937",
   "metadata": {},
   "source": [
    "In Python, dictionaries have three view objects that provide a dynamic view of the dictionary's elements. These view objects are:\n",
    " 1. keys(): returns a view object that displays a list of all the keys in the dictionary.\n",
    " 2. values(): returns a view object that displays a list of all the values in the dictionary.\n",
    " 3. items(): returns a view object that displays a list of all the key-value pairs in the dictionary as tuples."
   ]
  },
  {
   "cell_type": "code",
   "execution_count": 9,
   "id": "50d9be9e",
   "metadata": {},
   "outputs": [
    {
     "name": "stdout",
     "output_type": "stream",
     "text": [
      "Keys:  dict_keys(['Sport', 'Teams'])\n",
      "Values:  dict_values(['Cricket', ['India', 'Australia', 'England', 'South Africa', 'Sri Lanka', 'New Zealand']])\n",
      "Items:  dict_items([('Sport', 'Cricket'), ('Teams', ['India', 'Australia', 'England', 'South Africa', 'Sri Lanka', 'New Zealand'])])\n"
     ]
    }
   ],
   "source": [
    "#Example\n",
    "\n",
    "# create a dictionary\n",
    "dict1 = {'Sport': 'Cricket' , 'Teams': ['India', 'Australia', 'England', 'South Africa', 'Sri Lanka', 'New Zealand']}\n",
    "\n",
    "# display keys using keys() method\n",
    "print(\"Keys: \", dict1.keys())\n",
    "\n",
    "# display values using values() method\n",
    "print(\"Values: \", dict1.values())\n",
    "\n",
    "# display key-value pairs using items() method\n",
    "print(\"Items: \", dict1.items())\n"
   ]
  }
 ],
 "metadata": {
  "kernelspec": {
   "display_name": "Python 3",
   "language": "python",
   "name": "python3"
  },
  "language_info": {
   "codemirror_mode": {
    "name": "ipython",
    "version": 3
   },
   "file_extension": ".py",
   "mimetype": "text/x-python",
   "name": "python",
   "nbconvert_exporter": "python",
   "pygments_lexer": "ipython3",
   "version": "3.8.8"
  }
 },
 "nbformat": 4,
 "nbformat_minor": 5
}
