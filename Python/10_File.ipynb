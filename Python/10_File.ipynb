{
 "cells": [
  {
   "cell_type": "markdown",
   "id": "1a47789b",
   "metadata": {},
   "source": [
    "#### Q1. Which function is used to open a file? What are the different modes of opening a file? Explain each mode of file opening."
   ]
  },
  {
   "cell_type": "markdown",
   "id": "ca72f897",
   "metadata": {},
   "source": [
    "The open() function is used to open a file in Python.\n",
    "\n",
    "There are several modes in which a file can be opened. These modes are represented by different characters that are passed as the second argument to the open() function:\n",
    "\n",
    " * 'r': Read mode. This is the default mode when a file is opened. In this mode, the file can only be read, and an error will occur if any attempt is made to write to the file.\n",
    "\n",
    " * 'w': Write mode. In this mode, the file can be written to. If the file already exists, its contents are overwritten. If the file does not exist, a new file is created.\n",
    "\n",
    " * 'a': Append mode. In this mode, data can be added to the end of the file without overwriting its existing contents.\n",
    "\n",
    " * 'x': Exclusive creation mode. In this mode, a new file is created, but an error will occur if the file already exists.\n",
    "\n",
    " * 'b': Binary mode. This mode is used to read and write binary data.\n",
    "\n",
    " * 't': Text mode. This mode is used to read and write text data (the default)."
   ]
  },
  {
   "cell_type": "markdown",
   "id": "a3aaf650",
   "metadata": {},
   "source": [
    "#### Q2. Why close() function is used? Why is it important to close a file?"
   ]
  },
  {
   "cell_type": "markdown",
   "id": "6139b359",
   "metadata": {},
   "source": [
    "The close() function is used to close an opened file in Python. It is important to close a file after it has been opened because it frees up system resources that were being used to keep the file open. If a file is not closed, its contents may not be saved, and the memory used to keep the file open may not be released."
   ]
  },
  {
   "cell_type": "markdown",
   "id": "6c16aa20",
   "metadata": {},
   "source": [
    "#### Q3. Write a python program to create a text file. Write ‘I want to become a Data Scientist’ in that file. Then close the file. Open this file and read the content of the file."
   ]
  },
  {
   "cell_type": "code",
   "execution_count": 1,
   "id": "b6374da5",
   "metadata": {},
   "outputs": [
    {
     "name": "stdout",
     "output_type": "stream",
     "text": [
      "I want to become a Data Scientist\n"
     ]
    }
   ],
   "source": [
    "# Open the file for writing\n",
    "file = open(\"data_scientist.txt\", \"w\")\n",
    "\n",
    "# Write the string to the file\n",
    "file.write(\"I want to become a Data Scientist\")\n",
    "\n",
    "# Close the file\n",
    "file.close()\n",
    "\n",
    "# Open the file for reading\n",
    "file = open(\"data_scientist.txt\", \"r\")\n",
    "\n",
    "# Read the contents of the file\n",
    "contents = file.read()\n",
    "\n",
    "# Print the contents of the file\n",
    "print(contents)\n",
    "\n",
    "# Close the file\n",
    "file.close()\n"
   ]
  },
  {
   "cell_type": "markdown",
   "id": "368b275e",
   "metadata": {},
   "source": [
    "#### Q4. Explain the following with python code: read(), readline() and readlines()"
   ]
  },
  {
   "cell_type": "markdown",
   "id": "5d6ff1c0",
   "metadata": {},
   "source": [
    "read(): The read() method is used to read the entire contents of a file as a string. It takes an optional argument that specifies the maximum number of bytes to read. If no argument is passed, it reads the entire file."
   ]
  },
  {
   "cell_type": "code",
   "execution_count": null,
   "id": "85e3ea13",
   "metadata": {
    "scrolled": false
   },
   "outputs": [],
   "source": [
    "# Open the file for reading\n",
    "file = open(\"example.txt\", \"r\")\n",
    "\n",
    "# Read the entire contents of the file\n",
    "content = file.read()\n",
    "\n",
    "# Print the contents of the file\n",
    "print(content)\n",
    "\n",
    "# Close the file\n",
    "file.close()\n"
   ]
  },
  {
   "cell_type": "markdown",
   "id": "14dfc208",
   "metadata": {},
   "source": [
    "readline(): The readline() method is used to read a single line from a file. It returns a string that includes the newline character at the end of the line. If the end of the file is reached, it returns an empty string."
   ]
  },
  {
   "cell_type": "code",
   "execution_count": null,
   "id": "edd922e6",
   "metadata": {},
   "outputs": [],
   "source": [
    "# Open the file for reading\n",
    "file = open(\"example.txt\", \"r\")\n",
    "\n",
    "# Read the first line of the file\n",
    "line1 = file.readline()\n",
    "\n",
    "# Read the second line of the file\n",
    "line2 = file.readline()\n",
    "\n",
    "# Print the first and second lines of the file\n",
    "print(line1)\n",
    "print(line2)\n",
    "\n",
    "# Close the file\n",
    "file.close()\n"
   ]
  },
  {
   "cell_type": "markdown",
   "id": "252bf2c9",
   "metadata": {},
   "source": [
    "readlines(): The readlines() method is used to read all the lines of a file and return them as a list of strings. Each string includes the newline character at the end of the line."
   ]
  },
  {
   "cell_type": "code",
   "execution_count": null,
   "id": "cf9cf10a",
   "metadata": {},
   "outputs": [],
   "source": [
    "# Open the file for reading\n",
    "file = open(\"example.txt\", \"r\")\n",
    "\n",
    "# Read all the lines of the file\n",
    "lines = file.readlines()\n",
    "\n",
    "# Print the contents of the file\n",
    "for line in lines:\n",
    "    print(line)\n",
    "\n",
    "# Close the file\n",
    "file.close()\n"
   ]
  },
  {
   "cell_type": "markdown",
   "id": "24be6d7a",
   "metadata": {},
   "source": [
    "#### Q5. Explain why with statement is used with open(). What is the advantage of using with statement and open() together?"
   ]
  },
  {
   "cell_type": "markdown",
   "id": "1eed27a2",
   "metadata": {},
   "source": [
    "The with statement provides a clean and safe way to open a file and ensure that it is automatically closed when the block of code is exited, even if an exception is raised during the execution of the code."
   ]
  },
  {
   "cell_type": "code",
   "execution_count": null,
   "id": "80130407",
   "metadata": {},
   "outputs": [],
   "source": [
    "with open(\"example.txt\", \"r\") as file:\n",
    "    contents = file.read()\n",
    "    print(contents)\n"
   ]
  },
  {
   "cell_type": "markdown",
   "id": "24b21269",
   "metadata": {},
   "source": [
    "#### Q6. Explain the write() and writelines() functions. Give a suitable example."
   ]
  },
  {
   "cell_type": "markdown",
   "id": "ba1e3cb5",
   "metadata": {},
   "source": [
    "write(): The write() function is used to write a single string of data to a file. It takes a string as an argument and writes the contents of the string to the file. If the file already exists, the data will be overwritten, otherwise, a new file will be created."
   ]
  },
  {
   "cell_type": "code",
   "execution_count": null,
   "id": "d680816d",
   "metadata": {},
   "outputs": [],
   "source": [
    "# Open the file for writing\n",
    "file = open(\"example.txt\", \"w\")\n",
    "\n",
    "# Write a string to the file\n",
    "file.write(\"This is some text.\")\n",
    "\n",
    "# Close the file\n",
    "file.close()\n"
   ]
  },
  {
   "cell_type": "markdown",
   "id": "a49c2d0a",
   "metadata": {},
   "source": [
    "writelines(): The writelines() function is used to write multiple lines of data to a file. It takes a list of strings as an argument and writes each string to the file as a separate line. If the file already exists, the data will be overwritten, otherwise, a new file will be created."
   ]
  },
  {
   "cell_type": "code",
   "execution_count": null,
   "id": "f19b3ce0",
   "metadata": {},
   "outputs": [],
   "source": [
    "# Open the file for writing\n",
    "file = open(\"example.txt\", \"w\")\n",
    "\n",
    "# Write multiple lines of data to the file\n",
    "lines = [\"This is the first line.\", \"This is the second line.\", \"This is the third line.\"]\n",
    "file.writelines(lines)\n",
    "\n",
    "# Close the file\n",
    "file.close()\n"
   ]
  }
 ],
 "metadata": {
  "kernelspec": {
   "display_name": "Python 3",
   "language": "python",
   "name": "python3"
  },
  "language_info": {
   "codemirror_mode": {
    "name": "ipython",
    "version": 3
   },
   "file_extension": ".py",
   "mimetype": "text/x-python",
   "name": "python",
   "nbconvert_exporter": "python",
   "pygments_lexer": "ipython3",
   "version": "3.8.8"
  }
 },
 "nbformat": 4,
 "nbformat_minor": 5
}
