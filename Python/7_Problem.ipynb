{
 "cells": [
  {
   "cell_type": "markdown",
   "id": "910a9ed4",
   "metadata": {},
   "source": [
    "#### Q1. Create a function which will take a list as an argument and return the product of all the numbers after creating a flat list.\n",
    "\n",
    "#### Use the below-given list as an argument for your function.\n",
    "#### list1 = [1,2,3,4, [44,55,66, True], False, (34,56,78,89,34), {1,2,3,3,2,1}, {1:34, \"key2\": [55, 67, 78, 89], 4: (45,22, 61, 34)}, [56, 'data science'], 'Machine Learning']\n",
    "#### Note: you must extract numeric keys and values of the dictionary also."
   ]
  },
  {
   "cell_type": "code",
   "execution_count": 25,
   "id": "c9157121",
   "metadata": {},
   "outputs": [
    {
     "name": "stdout",
     "output_type": "stream",
     "text": [
      "Product:  4134711838987085478833841242112000\n"
     ]
    }
   ],
   "source": [
    "#Function to extract all the numeric values\n",
    "def number_extractor(lst):\n",
    "    numbers = []\n",
    "    for item in lst:\n",
    "        if type(item) in (int, float):\n",
    "            numbers.append(item)\n",
    "        if type(item) in (list, tuple, set):\n",
    "            numbers.extend(number_extractor(item))\n",
    "        if type(item) == dict:\n",
    "            for key, value in item.items():\n",
    "                if type(key) in (int, float):\n",
    "                    numbers.append(key)\n",
    "                if type(value) in (int, float):\n",
    "                    numbers.append(value)\n",
    "                if type(key) in (list, tuple, set):\n",
    "                    numbers.extend(number_extractor(value))\n",
    "                if type(value) in (list, tuple, set):\n",
    "                    numbers.extend(number_extractor(value))\n",
    "    return numbers\n",
    "\n",
    "#Function to calculate the product\n",
    "def product(lst):\n",
    "    numbers = number_extractor(lst)\n",
    "    product = 1\n",
    "    for i in numbers:\n",
    "        product *= i\n",
    "    print(\"Product: \", product)\n",
    "\n",
    "#Output\n",
    "list1 = [1,2,3,4, [44,55,66, True], False, (34,56,78,89,34), {1,2,3,3,2,1},\n",
    "         {1:34, \"key2\": [55, 67, 78, 89], 4: (45,22, 61, 34)},\n",
    "         [56, 'data science'], 'Machine Learning']\n",
    "\n",
    "product(list1)\n"
   ]
  },
  {
   "cell_type": "markdown",
   "id": "f00fff58",
   "metadata": {},
   "source": [
    "#### Q2. Write a python program for encrypting a message sent to you by your friend. The logic of encryption should be such that, for a the output should be z. For b, the output should be y. For c, the output should be x respectively. Also, the whitespace should be replaced with a dollar sign. Keep the punctuation marks unchanged.\n",
    "\n",
    "#### Input Sentence: I want to become a Data Scientist.\n",
    "#### Encrypt the above input sentence using the program you just created.\n",
    "#### Note: Convert the given input sentence into lowercase before encrypting. The final output should be lowercase."
   ]
  },
  {
   "cell_type": "code",
   "execution_count": 26,
   "id": "7d1fe65c",
   "metadata": {},
   "outputs": [
    {
     "name": "stdout",
     "output_type": "stream",
     "text": [
      "Encrypted_message:  r$dzmg$gl$yvxlnv$z$wzgz$hxrvmgrhg.\n"
     ]
    }
   ],
   "source": [
    "#Function to encrypt the message\n",
    "def encrypt_message(sentence):\n",
    "    \n",
    "    sentence = sentence.lower()\n",
    "    encryption_map = {'a': 'z', 'b': 'y', 'c': 'x', 'd': 'w', 'e': 'v', 'f': 'u', 'g': 't', 'h': 's', 'i': 'r',\n",
    "                      'j': 'q', 'k': 'p', 'l': 'o', 'm': 'n', 'n': 'm', 'o': 'l', 'p': 'k', 'q': 'j', 'r': 'i',\n",
    "                      's': 'h', 't': 'g', 'u': 'f', 'v': 'e', 'w': 'd', 'x': 'c', 'y': 'b', 'z': 'a', ' ': '$'}\n",
    "    \n",
    "    encrypted_sentence = \"\"\n",
    "    for char in sentence:\n",
    "        if char in encryption_map:\n",
    "            encrypted_sentence += encryption_map[char]\n",
    "        else:\n",
    "            encrypted_sentence += char\n",
    "            \n",
    "    return encrypted_sentence\n",
    "\n",
    "#Output\n",
    "sentence = \"I want to become a Data Scientist.\"\n",
    "encrypted_message = encrypt_message(sentence)\n",
    "\n",
    "print(\"Encrypted_message: \", encrypted_message)\n"
   ]
  }
 ],
 "metadata": {
  "kernelspec": {
   "display_name": "Python 3",
   "language": "python",
   "name": "python3"
  },
  "language_info": {
   "codemirror_mode": {
    "name": "ipython",
    "version": 3
   },
   "file_extension": ".py",
   "mimetype": "text/x-python",
   "name": "python",
   "nbconvert_exporter": "python",
   "pygments_lexer": "ipython3",
   "version": "3.8.8"
  }
 },
 "nbformat": 4,
 "nbformat_minor": 5
}
