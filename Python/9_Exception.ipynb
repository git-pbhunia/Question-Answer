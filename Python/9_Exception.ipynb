{
 "cells": [
  {
   "cell_type": "markdown",
   "id": "e9cd2554",
   "metadata": {},
   "source": [
    "#### Q1. What is an Exception in python? Write the difference between Exceptions and Syntax errors."
   ]
  },
  {
   "cell_type": "markdown",
   "id": "5580b7e4",
   "metadata": {},
   "source": [
    "In Python, an exception is an error that occurs during the execution of a program. When an exception is encountered, the program stops executing and Python raises an exception object, which contains information about the type of error that occurred and where it occurred in the code.\n",
    "\n",
    "Syntax errors, on the other hand, occur when there is a problem with the syntax of the program, such as a missing or misplaced character or an incorrect use of a keyword. These errors are detected by the Python interpreter when the code is being compiled, and the program will not even start executing.\n",
    "\n",
    "The main difference between exceptions and syntax errors is that exceptions occur during the execution of the program, while syntax errors occur before the program starts running. Additionally, syntax errors are usually easier to fix since the interpreter provides a clear error message that indicates the location of the error, whereas exceptions can be more difficult to diagnose since they may be caused by a variety of factors, such as unexpected input or external dependencies."
   ]
  },
  {
   "cell_type": "markdown",
   "id": "275dc3da",
   "metadata": {},
   "source": [
    "#### Q2. What happens when an exception is not handled? Explain with an example."
   ]
  },
  {
   "cell_type": "markdown",
   "id": "6de8cc38",
   "metadata": {},
   "source": [
    "When an exception is not handled in Python, the program will terminate and an error message will be displayed to the user, indicating the type of exception that occurred and where it occurred in the code. This can be problematic if the program is intended to continue running or if the user is not able to address the issue that caused the exception."
   ]
  },
  {
   "cell_type": "code",
   "execution_count": 1,
   "id": "421fa19b",
   "metadata": {},
   "outputs": [
    {
     "name": "stdout",
     "output_type": "stream",
     "text": [
      "Enter a number: 0\n",
      "Cannot divide by zero\n"
     ]
    }
   ],
   "source": [
    "#Example\n",
    "\n",
    "try:\n",
    "    num = int(input(\"Enter a number: \"))\n",
    "    result = 100 / num\n",
    "    print(\"Result:\", result)\n",
    "except ValueError:\n",
    "    print(\"Invalid input\")\n",
    "except ZeroDivisionError:\n",
    "    print(\"Cannot divide by zero\")\n"
   ]
  },
  {
   "cell_type": "markdown",
   "id": "86091e32",
   "metadata": {},
   "source": [
    "#### Q3. Which Python statements are used to catch and handle exceptions? Explain with an example."
   ]
  },
  {
   "cell_type": "markdown",
   "id": "feda8146",
   "metadata": {},
   "source": [
    "In Python, the try and except statements are used to catch and handle exceptions.\n",
    "\n",
    "The try block contains the code that may raise an exception. If an exception occurs, Python immediately exits the try block and looks for the corresponding except block that can handle the exception. If a matching except block is found, its code is executed and then the program continues running from the next statement after the try-except block. If no matching except block is found, the program terminates with an error message."
   ]
  },
  {
   "cell_type": "code",
   "execution_count": 3,
   "id": "25422b05",
   "metadata": {},
   "outputs": [
    {
     "name": "stdout",
     "output_type": "stream",
     "text": [
      "Enter a number: 10\n",
      "Enter another number: 0\n",
      "Cannot divide by zero\n",
      "Done\n"
     ]
    }
   ],
   "source": [
    "#Example\n",
    "\n",
    "try:\n",
    "    num1 = int(input(\"Enter a number: \"))\n",
    "    num2 = int(input(\"Enter another number: \"))\n",
    "    result = num1 / num2\n",
    "except ValueError:\n",
    "    print(\"Invalid input\")\n",
    "except ZeroDivisionError:\n",
    "    print(\"Cannot divide by zero\")\n",
    "else:\n",
    "    print(\"Result:\", result)\n",
    "finally:\n",
    "    print(\"Done\")\n"
   ]
  },
  {
   "cell_type": "markdown",
   "id": "558b7708",
   "metadata": {},
   "source": [
    "#### Q4. Explain with an example:\n",
    " * try and else\n",
    " * finally\n",
    " * raise"
   ]
  },
  {
   "cell_type": "markdown",
   "id": "f8e7ce2b",
   "metadata": {},
   "source": [
    "try and else:\n",
    "The try and else statements are used together to handle exceptions that may occur in a block of code. The try block contains the code that may raise an exception, and the else block contains the code that should be executed if no exceptions are raised. If an exception is raised, the code in the else block is skipped."
   ]
  },
  {
   "cell_type": "code",
   "execution_count": 5,
   "id": "3ac361d2",
   "metadata": {},
   "outputs": [
    {
     "name": "stdout",
     "output_type": "stream",
     "text": [
      "Enter a number: \"abc\"\n",
      "Invalid input\n"
     ]
    }
   ],
   "source": [
    "#Example\n",
    "\n",
    "try:\n",
    "    x = int(input(\"Enter a number: \"))\n",
    "except ValueError:\n",
    "    print(\"Invalid input\")\n",
    "else:\n",
    "    print(\"You entered:\", x)\n"
   ]
  },
  {
   "cell_type": "markdown",
   "id": "c4b445e4",
   "metadata": {},
   "source": [
    "finally:\n",
    "The finally statement is used to execute a block of code regardless of whether an exception was raised or not. This is useful for closing files or releasing resources that were opened in the try block."
   ]
  },
  {
   "cell_type": "code",
   "execution_count": null,
   "id": "63497f87",
   "metadata": {},
   "outputs": [],
   "source": [
    "#Example\n",
    "\n",
    "try:\n",
    "    f = open(\"file.txt\", \"r\")\n",
    "    print(f.read())\n",
    "finally:\n",
    "    f.close()\n",
    "    print(\"File closed\")\n"
   ]
  },
  {
   "cell_type": "markdown",
   "id": "6875c1ac",
   "metadata": {},
   "source": [
    "raise:\n",
    "The raise statement is used to raise an exception in Python. This can be useful for signaling errors or abnormal conditions in a program."
   ]
  },
  {
   "cell_type": "code",
   "execution_count": 16,
   "id": "c53503e7",
   "metadata": {},
   "outputs": [
    {
     "ename": "ValueError",
     "evalue": "Invalid value: -1",
     "output_type": "error",
     "traceback": [
      "\u001b[1;31m---------------------------------------------------------------------------\u001b[0m",
      "\u001b[1;31mValueError\u001b[0m                                Traceback (most recent call last)",
      "\u001b[1;32m<ipython-input-16-c9b469c4d909>\u001b[0m in \u001b[0;36m<module>\u001b[1;34m\u001b[0m\n\u001b[0;32m      3\u001b[0m \u001b[0mx\u001b[0m \u001b[1;33m=\u001b[0m \u001b[1;33m-\u001b[0m\u001b[1;36m1\u001b[0m\u001b[1;33m\u001b[0m\u001b[1;33m\u001b[0m\u001b[0m\n\u001b[0;32m      4\u001b[0m \u001b[1;32mif\u001b[0m \u001b[0mx\u001b[0m \u001b[1;33m<\u001b[0m \u001b[1;36m0\u001b[0m\u001b[1;33m:\u001b[0m\u001b[1;33m\u001b[0m\u001b[1;33m\u001b[0m\u001b[0m\n\u001b[1;32m----> 5\u001b[1;33m     \u001b[1;32mraise\u001b[0m \u001b[0mValueError\u001b[0m\u001b[1;33m(\u001b[0m\u001b[1;34m\"Invalid value: %d\"\u001b[0m \u001b[1;33m%\u001b[0m \u001b[0mx\u001b[0m\u001b[1;33m)\u001b[0m\u001b[1;33m\u001b[0m\u001b[1;33m\u001b[0m\u001b[0m\n\u001b[0m",
      "\u001b[1;31mValueError\u001b[0m: Invalid value: -1"
     ]
    }
   ],
   "source": [
    "#Example\n",
    "\n",
    "x = -1\n",
    "if x < 0:\n",
    "    raise ValueError(\"Invalid value: %d\" % x)\n"
   ]
  },
  {
   "cell_type": "markdown",
   "id": "725682b3",
   "metadata": {},
   "source": [
    "#### Q5. What are Custom Exceptions in python? Why do we need Custom Exceptions? Explain with an example."
   ]
  },
  {
   "cell_type": "markdown",
   "id": "e718a361",
   "metadata": {},
   "source": [
    "Custom Exceptions are user-defined exceptions that are created by the programmer to handle specific errors in a program. In Python, we can create custom exceptions by subclassing the Exception class.\n",
    "\n",
    "We need custom exceptions to provide a more specific and meaningful error message to the user when a particular error condition occurs in the program. For example, if we are writing a program that reads data from a file, we may want to create a custom exception to handle the case when the file is not found."
   ]
  },
  {
   "cell_type": "code",
   "execution_count": 17,
   "id": "404fd7fd",
   "metadata": {},
   "outputs": [
    {
     "name": "stdout",
     "output_type": "stream",
     "text": [
      "File not found: data.txt\n"
     ]
    }
   ],
   "source": [
    "#Example\n",
    "\n",
    "class FileNotFound(Exception):\n",
    "    pass\n",
    "\n",
    "def read_file(filename):\n",
    "    try:\n",
    "        f = open(filename, \"r\")\n",
    "        content = f.read()\n",
    "        f.close()\n",
    "    except FileNotFoundError:\n",
    "        raise FileNotFound(\"File not found: %s\" % filename)\n",
    "    else:\n",
    "        return content\n",
    "\n",
    "try:\n",
    "    data = read_file(\"data.txt\")\n",
    "    print(data)\n",
    "except FileNotFound as e:\n",
    "    print(e)\n"
   ]
  },
  {
   "cell_type": "markdown",
   "id": "08efa883",
   "metadata": {},
   "source": [
    "#### Q6. Create a custom exception class. Use this class to handle an exception."
   ]
  },
  {
   "cell_type": "code",
   "execution_count": 18,
   "id": "1c0c09d4",
   "metadata": {},
   "outputs": [
    {
     "name": "stdout",
     "output_type": "stream",
     "text": [
      "Invalid input: -2. The input must be a positive number.\n"
     ]
    }
   ],
   "source": [
    "class NegativeNumberError(Exception):\n",
    "    def __init__(self, value):\n",
    "        self.value = value\n",
    "        \n",
    "    def __str__(self):\n",
    "        return f\"Invalid input: {self.value}. The input must be a positive number.\"\n",
    "\n",
    "def divide_numbers(x, y):\n",
    "    if y <= 0:\n",
    "        raise NegativeNumberError(y)\n",
    "    return x / y\n",
    "\n",
    "try:\n",
    "    result = divide_numbers(10, -2)\n",
    "except NegativeNumberError as e:\n",
    "    print(e)\n",
    "else:\n",
    "    print(result)\n"
   ]
  }
 ],
 "metadata": {
  "kernelspec": {
   "display_name": "Python 3",
   "language": "python",
   "name": "python3"
  },
  "language_info": {
   "codemirror_mode": {
    "name": "ipython",
    "version": 3
   },
   "file_extension": ".py",
   "mimetype": "text/x-python",
   "name": "python",
   "nbconvert_exporter": "python",
   "pygments_lexer": "ipython3",
   "version": "3.8.8"
  }
 },
 "nbformat": 4,
 "nbformat_minor": 5
}
