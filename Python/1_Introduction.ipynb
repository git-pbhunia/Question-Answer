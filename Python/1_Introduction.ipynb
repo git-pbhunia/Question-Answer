{
 "cells": [
  {
   "cell_type": "markdown",
   "id": "b6167863",
   "metadata": {},
   "source": [
    "#### Q1. Who developed python programming language ?"
   ]
  },
  {
   "cell_type": "markdown",
   "id": "4f1ac4bf",
   "metadata": {},
   "source": [
    "Guido Van Rossum, a Dutch programmer developed the Python programming language. He started working on Python in December 1989 and the first version of Python was released on February 20, 1991."
   ]
  },
  {
   "cell_type": "markdown",
   "id": "6260f877",
   "metadata": {},
   "source": [
    "#### Q2. Which type of programming does Python support ?"
   ]
  },
  {
   "cell_type": "markdown",
   "id": "f787bc7e",
   "metadata": {},
   "source": [
    "Python is a multi-paradigm programming language, meaning that it supports several programming paradigms, including:\n",
    " * Object-Oriented Programming (OOP): Python has features like classes, objects, inheritance, and encapsulation that support OOP.\n",
    " * Functional Programming: Python supports features like first-class functions, closures, and lambda expressions that make it suitable for functional programming.\n",
    " * Procedural Programming: Python has procedures, or functions, and allows the use of control structures like loops and conditional statements, making it suitable for procedural programming.\n",
    " * Scripting: Python can be used as a scripting language, making it easy to write scripts for automated tasks."
   ]
  },
  {
   "cell_type": "markdown",
   "id": "e469e853",
   "metadata": {},
   "source": [
    "#### Q3. Is Python case-sensitive when dealing with identifiers ?"
   ]
  },
  {
   "cell_type": "markdown",
   "id": "b018708e",
   "metadata": {},
   "source": [
    "Yes, Python is case sensitive when dealing with identifiers, including variable names, function names, and class names."
   ]
  },
  {
   "cell_type": "markdown",
   "id": "13606133",
   "metadata": {},
   "source": [
    "#### Q4. What is correct extension of the Python file ?"
   ]
  },
  {
   "cell_type": "markdown",
   "id": "db35b9b6",
   "metadata": {},
   "source": [
    "The most common file extension for a Python file is .py. This extension is used to indicate that the file contains Python source code and can be executed by the Python interpreter."
   ]
  },
  {
   "cell_type": "markdown",
   "id": "eec0fc67",
   "metadata": {},
   "source": [
    "#### Q5. Is Python code compiled or interpreted ?"
   ]
  },
  {
   "cell_type": "markdown",
   "id": "59608eed",
   "metadata": {},
   "source": [
    "Python is an interpreted language, not a compiled language. This means that the Python code is executed line by line by the Python interpreter."
   ]
  },
  {
   "cell_type": "markdown",
   "id": "3224b909",
   "metadata": {},
   "source": [
    "#### Q6. Name a few blocks of code used to define in Python language ?"
   ]
  },
  {
   "cell_type": "markdown",
   "id": "66709211",
   "metadata": {},
   "source": [
    "In Python, blocks of code are defined using indentation, rather than brackets or keywords like begin and end. Here are a few common blocks of code used in Python: Functions, Classes, Loops, Conditional statements."
   ]
  },
  {
   "cell_type": "markdown",
   "id": "f2f36c51",
   "metadata": {},
   "source": [
    "#### Q7. State a character used to give single-line comments in Python ?"
   ]
  },
  {
   "cell_type": "markdown",
   "id": "01d8f623",
   "metadata": {},
   "source": [
    "In Python, the pound sign (#) is used to give a single line comment. Everything that follows the # symbol on a line is ignored by the Python interpreter."
   ]
  },
  {
   "cell_type": "markdown",
   "id": "154e4244",
   "metadata": {},
   "source": [
    "#### Q8. Mentions function which can help us to find the version that we are currently working on."
   ]
  },
  {
   "cell_type": "markdown",
   "id": "d5db07e8",
   "metadata": {},
   "source": [
    "You can use the sys module in Python to find the version of Python you are running. The sys module provides access to various functions and variables related to the Python runtime environment, including the version information."
   ]
  },
  {
   "cell_type": "markdown",
   "id": "a8663ccf",
   "metadata": {},
   "source": [
    "#### Q9. Python supports the creation of anonymous function at runtime, using a construct called ______."
   ]
  },
  {
   "cell_type": "markdown",
   "id": "f24c127b",
   "metadata": {},
   "source": [
    "Python support the creation of anonymous functions at runtime using a construct called \"lambda expressions\"."
   ]
  },
  {
   "cell_type": "markdown",
   "id": "2069771f",
   "metadata": {},
   "source": [
    "#### Q10. What does \"pip\" stand for in Python ?"
   ]
  },
  {
   "cell_type": "markdown",
   "id": "017d59fa",
   "metadata": {},
   "source": [
    "PIP stands for \"Pip Installs Packages.\" It is a package manager for Python that allows you to install and manage packages (libraries, modules, and tools) easily and efficiently."
   ]
  },
  {
   "cell_type": "markdown",
   "id": "df18292c",
   "metadata": {},
   "source": [
    "#### Q11. Mention a few built-in functions in Python ?"
   ]
  },
  {
   "cell_type": "markdown",
   "id": "bf636a25",
   "metadata": {},
   "source": [
    "Python has many built-in functions that you can use without having to import any additional modules.\n",
    "Here are a few of the most commonly used built-in functions:\n",
    " * print(): This function is used to output text to the console. You can pass one or more expressions as arguments, and they will be concatenated and printed to the screen.\n",
    " *  len(): This function returns the length of an object, such as a string, list, or tuple.\n",
    " * max() and min(): These functions return the maximum and minimum values from a sequence, such as a list or tuple.\n",
    " * sum(): This function returns the sum of a sequence of numbers.\n",
    " * sorted(): This function returns a sorted list from an iterable object, such as a list or tuple.\n",
    " * str(), int(), and float(): These functions are used to convert values between different data types, such as from a string to an integer, or from a float to a string.\n",
    " * round(): This function rounds a floating-point number to the nearest integer or to a specified number of decimal places.\n",
    " * abs(): This function returns the absolute value of a number.\n",
    " * type(): This function returns the type of an object, such as int, float, or str."
   ]
  },
  {
   "cell_type": "markdown",
   "id": "1005142d",
   "metadata": {},
   "source": [
    "#### Q12. What is the maximum possible length of an identifier in Python ?"
   ]
  },
  {
   "cell_type": "markdown",
   "id": "89e73302",
   "metadata": {},
   "source": [
    "In Python, there is no specific limit to the length of an identifier (variable name, function name, class name, etc.). However, it is generally recommended to keep the length of identifiers reasonable and descriptive, as longer names can make the code harder to read and maintain. According to the PEP 8 style guide, which is widely followed by the Python community, the preferred maximum length of an identifier name is 79 characters."
   ]
  },
  {
   "cell_type": "markdown",
   "id": "18aba7e6",
   "metadata": {},
   "source": [
    "#### Q13. What are the benefits of using Python ?"
   ]
  },
  {
   "cell_type": "markdown",
   "id": "c71165ae",
   "metadata": {},
   "source": [
    "Python is a popular and widely-used programming language, and there are many benefits to using it.\n",
    "Here are a few of the most significant benefits:\n",
    " * Easy to learn and read: Python has a simple, straightforward syntax that is easy to learn and read. This makes it a great choice for beginners, as well as for experienced programmers who are switching to a new language.\n",
    " * Versatile and multi-purpose: Python can be used for a wide range of applications, including web development, scientific computing, data analysis, artificial intelligence, and more. This versatility makes it a popular choice for many different types of projects.\n",
    " * Large community and resources: Python has a large and active community of users, developers, and contributors. This means that there is a wealth of resources available, including libraries, tools, and tutorials.\n",
    " * Interoperable with other languages: Python can easily integrate with other programming languages, making it a great choice for projects that require the use of multiple languages.\n",
    " * High-level programming: Python is a high-level programming language, which means that it abstracts away many of the lower-level details of programming. This makes it easier to write complex programs, and to focus on the logic and behavior of your code, rather than on the underlying details.\n",
    " * Dynamically typed: Python is dynamically typed, which means that you don't need to declare the type of a variable when you use it. This makes it easier to write flexible and reusable code."
   ]
  },
  {
   "cell_type": "markdown",
   "id": "26e7ba89",
   "metadata": {},
   "source": [
    "#### Q14. How is memory managed in Python ?"
   ]
  },
  {
   "cell_type": "markdown",
   "id": "a76baf8c",
   "metadata": {},
   "source": [
    "In Python, memory management is handled automatically by the Python memory manager, which is part of the Python interpreter. The memory manager is responsible for allocating and deallocating memory for Python objects, such as strings, lists, and dictionaries."
   ]
  },
  {
   "cell_type": "markdown",
   "id": "e0a8650f",
   "metadata": {},
   "source": [
    "#### Q15. How to install Python on Windows and set path variables ?"
   ]
  },
  {
   "cell_type": "markdown",
   "id": "623de334",
   "metadata": {},
   "source": [
    "Here are the steps to install Python on Windows and set the path variables:\n",
    " * Download the Python installation file from the official Python website (https://www.python.org/downloads/).\n",
    " * Run the installation file and follow the on-screen instructions. Make sure to check the option to \"Add Python to PATH\" during the installation process, as this will make it easier to run Python from the command line."
   ]
  },
  {
   "cell_type": "markdown",
   "id": "5a4cfc2f",
   "metadata": {},
   "source": [
    "#### Q16. Is indentation required in Python ?"
   ]
  },
  {
   "cell_type": "markdown",
   "id": "1c9b7f5c",
   "metadata": {},
   "source": [
    "Yes, indentation is required in Python and is used to define the blocks of code, such as loops, functions, and conditional statements. In Python, indentation is used instead of curly braces ({}) or keywords (such as\n",
    "\"begin\" and \"end\") to define the blocks of code. The amount of indentation is usually four spaces, although it can be any number of spaces as long as it is consistent within a block of code."
   ]
  }
 ],
 "metadata": {
  "kernelspec": {
   "display_name": "Python 3",
   "language": "python",
   "name": "python3"
  },
  "language_info": {
   "codemirror_mode": {
    "name": "ipython",
    "version": 3
   },
   "file_extension": ".py",
   "mimetype": "text/x-python",
   "name": "python",
   "nbconvert_exporter": "python",
   "pygments_lexer": "ipython3",
   "version": "3.8.8"
  }
 },
 "nbformat": 4,
 "nbformat_minor": 5
}
