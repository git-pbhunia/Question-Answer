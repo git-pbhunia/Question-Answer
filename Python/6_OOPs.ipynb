{
 "cells": [
  {
   "cell_type": "markdown",
   "id": "78b26de2",
   "metadata": {},
   "source": [
    "#### Q1. Explain Class and Object with respect to Object-Oriented Programming. Give a suitable example."
   ]
  },
  {
   "cell_type": "markdown",
   "id": "97fd26db",
   "metadata": {},
   "source": [
    "In Object-Oriented Programming (OOP), a class is a blueprint for creating objects (instances of that class). A class defines a set of attributes (data) and behaviors (methods) that are common to all objects of that class.\n",
    "\n",
    "An object is an instance of a class and is used to represent a specific entity or concept in the real world. Each object has its own unique set of attribute values and behavior.\n",
    "\n",
    "For example, consider a class Person that represents a person in the real world. The class Person might have attributes such as name, age, gender, and address, and behaviors such as speak(), walk(), and eat(). Each instance of the class Person would represent a specific person, such as John or Jane, with their own unique set of attribute values and behavior."
   ]
  },
  {
   "cell_type": "code",
   "execution_count": 1,
   "id": "efb4d6b8",
   "metadata": {},
   "outputs": [
    {
     "name": "stdout",
     "output_type": "stream",
     "text": [
      "John is speaking.\n",
      "Jane is walking.\n"
     ]
    }
   ],
   "source": [
    "#Example\n",
    "\n",
    "class Person:\n",
    "    def __init__(self, name, age, gender, address):\n",
    "        self.name = name\n",
    "        self.age = age\n",
    "        self.gender = gender\n",
    "        self.address = address\n",
    "\n",
    "    def speak(self):\n",
    "        print(f\"{self.name} is speaking.\")\n",
    "\n",
    "    def walk(self):\n",
    "        print(f\"{self.name} is walking.\")\n",
    "\n",
    "    def eat(self):\n",
    "        print(f\"{self.name} is eating.\")\n",
    "\n",
    "person1 = Person(\"John\", 32, \"Male\", \"123 Main St\")\n",
    "person2 = Person(\"Jane\", 28, \"Female\", \"456 Market St\")\n",
    "\n",
    "person1.speak()\n",
    "person2.walk()\n"
   ]
  },
  {
   "cell_type": "markdown",
   "id": "2734c30a",
   "metadata": {},
   "source": [
    "#### Q2. Name the four pillars of OOPs."
   ]
  },
  {
   "cell_type": "markdown",
   "id": "45842ada",
   "metadata": {},
   "source": [
    "There are four basic pillars of Object-Oriented Programming (OOP):\n",
    "\n",
    " 1. Encapsulation: This pillar deals with hiding the internal workings of objects and only exposing the necessary information to the outside world through methods and properties.\n",
    "\n",
    " 2. Abstraction: This pillar deals with reducing complexity by hiding the implementation details and only showing the relevant information to the user.\n",
    "\n",
    " 3. Inheritance: This pillar allows objects to inherit characteristics from parent objects and extend or override them as needed.\n",
    "\n",
    " 4. Polymorphism: This pillar allows objects to have different forms and behaviors, depending on the context in which they are used."
   ]
  },
  {
   "cell_type": "markdown",
   "id": "b7b401a2",
   "metadata": {},
   "source": [
    "#### Q3. Explain why the __init__() function is used. Give a suitable example."
   ]
  },
  {
   "cell_type": "markdown",
   "id": "99c0f9f1",
   "metadata": {},
   "source": [
    "The __init__ method is a special method in Python that is automatically called when an object of a class is created. It is commonly referred to as the class constructor. The __init__ method is used to initialize the attributes of the class and set their default values."
   ]
  },
  {
   "cell_type": "code",
   "execution_count": 3,
   "id": "fe0439af",
   "metadata": {},
   "outputs": [],
   "source": [
    "#Example \n",
    "\n",
    "class Person:\n",
    "    def __init__(self, name, age):\n",
    "        self.name = name\n",
    "        self.age = age\n"
   ]
  },
  {
   "cell_type": "markdown",
   "id": "e7b9e988",
   "metadata": {},
   "source": [
    "Here, the __init__ method takes two parameters: name and age. When an object of the class Person is created, the __init__ method is automatically called, and the values of name and age are set for that specific object."
   ]
  },
  {
   "cell_type": "markdown",
   "id": "82712bcb",
   "metadata": {},
   "source": [
    "#### Q4. Why self is used in OOPs?"
   ]
  },
  {
   "cell_type": "markdown",
   "id": "a3fad87a",
   "metadata": {},
   "source": [
    "The self keyword is used in Object-Oriented Programming (OOP) to refer to the instance of the object itself. In other words, self refers to the object on which the method is being called."
   ]
  },
  {
   "cell_type": "markdown",
   "id": "2ac3154c",
   "metadata": {},
   "source": [
    "#### Q5. What is inheritance? Give an example for each type of inheritance."
   ]
  },
  {
   "cell_type": "markdown",
   "id": "1a7303ea",
   "metadata": {},
   "source": [
    "Inheritance is a fundamental concept in Object-Oriented Programming (OOP) that allows a new class to be derived from an existing class. The derived class, known as the child class or subclass, inherits attributes and methods from the base class, also known as the parent class or superclass. This allows the child class to inherit the properties and behavior of the parent class, making it easier to reuse code and build new, more specialized classes.\n",
    "\n",
    "There are several types of inheritance in Python:\n",
    "\n",
    " 1. Single Inheritance: In single inheritance, a child class inherits attributes and methods from a single parent class."
   ]
  },
  {
   "cell_type": "code",
   "execution_count": 4,
   "id": "b77d5269",
   "metadata": {},
   "outputs": [
    {
     "name": "stdout",
     "output_type": "stream",
     "text": [
      "Woof!\n"
     ]
    }
   ],
   "source": [
    "#Example\n",
    "\n",
    "class Animal:\n",
    "    def __init__(self, name, species):\n",
    "        self.name = name\n",
    "        self.species = species\n",
    "\n",
    "    def make_sound(self):\n",
    "        print(\"Some generic animal sound\")\n",
    "\n",
    "class Dog(Animal):\n",
    "    def __init__(self, name, breed):\n",
    "        Animal.__init__(self, name, species=\"Dog\")\n",
    "        self.breed = breed\n",
    "\n",
    "    def make_sound(self):\n",
    "        print(\"Woof!\")\n",
    "\n",
    "dog = Dog(\"Fido\", \"Labrador\")\n",
    "dog.make_sound()\n"
   ]
  },
  {
   "cell_type": "markdown",
   "id": "8947c838",
   "metadata": {},
   "source": [
    " 2. Multiple Inheritance: In multiple inheritance, a child class inherits attributes and methods from multiple parent classes."
   ]
  },
  {
   "cell_type": "code",
   "execution_count": 5,
   "id": "499fcc49",
   "metadata": {},
   "outputs": [
    {
     "name": "stdout",
     "output_type": "stream",
     "text": [
      "Engine started\n",
      "Car is driving\n"
     ]
    }
   ],
   "source": [
    "#Example \n",
    "\n",
    "class Engine:\n",
    "    def start(self):\n",
    "        print(\"Engine started\")\n",
    "\n",
    "class Car:\n",
    "    def drive(self):\n",
    "        print(\"Car is driving\")\n",
    "\n",
    "class ElectricCar(Car, Engine):\n",
    "    def __init__(self, model):\n",
    "        self.model = model\n",
    "\n",
    "electric_car = ElectricCar(\"Tesla Model S\")\n",
    "electric_car.start()\n",
    "electric_car.drive()\n"
   ]
  },
  {
   "cell_type": "markdown",
   "id": "bd3f5a93",
   "metadata": {},
   "source": [
    " 3. Multi-Level Inheritance: In multi-level inheritance, a class inherits from a class that inherits from another class."
   ]
  },
  {
   "cell_type": "code",
   "execution_count": 6,
   "id": "21d14d46",
   "metadata": {},
   "outputs": [
    {
     "name": "stdout",
     "output_type": "stream",
     "text": [
      "25\n"
     ]
    }
   ],
   "source": [
    "#Example \n",
    "\n",
    "class Shape:\n",
    "    def area(self):\n",
    "        pass\n",
    "\n",
    "class Rectangle(Shape):\n",
    "    def __init__(self, width, height):\n",
    "        self.width = width\n",
    "        self.height = height\n",
    "\n",
    "    def area(self):\n",
    "        return self.width * self.height\n",
    "\n",
    "class Square(Rectangle):\n",
    "    def __init__(self, side):\n",
    "        Rectangle.__init__(self, side, side)\n",
    "\n",
    "square = Square(5)\n",
    "print(square.area())\n"
   ]
  }
 ],
 "metadata": {
  "kernelspec": {
   "display_name": "Python 3",
   "language": "python",
   "name": "python3"
  },
  "language_info": {
   "codemirror_mode": {
    "name": "ipython",
    "version": 3
   },
   "file_extension": ".py",
   "mimetype": "text/x-python",
   "name": "python",
   "nbconvert_exporter": "python",
   "pygments_lexer": "ipython3",
   "version": "3.8.8"
  }
 },
 "nbformat": 4,
 "nbformat_minor": 5
}
