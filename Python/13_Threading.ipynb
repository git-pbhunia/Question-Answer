{
 "cells": [
  {
   "cell_type": "markdown",
   "id": "b26484cf",
   "metadata": {},
   "source": [
    "#### Q1. What is multithreading in python? Why is it used? Name the module used to handle threads in python."
   ]
  },
  {
   "cell_type": "markdown",
   "id": "21e32337",
   "metadata": {},
   "source": [
    "Multithreading in Python refers to the ability of a program to run multiple threads (or tasks) concurrently within a single process. Each thread represents a separate flow of execution, and multiple threads can run simultaneously, allowing a program to perform multiple tasks at once.\n",
    "\n",
    "Multithreading is used to improve the performance of a program by taking advantage of multi-core processors. For example, a program that needs to download several files from the internet can use multiple threads to download the files concurrently, which can significantly speed up the download process.\n",
    "\n",
    "The \"threading\" module is used to handle threads in Python. It provides a simple way to create and manage threads in Python programs. The threading module includes a \"Thread\" class that can be subclassed to create new threads. The \"Thread\" class provides a simple interface for starting, stopping, and joining threads, as well as for setting thread names and priorities."
   ]
  },
  {
   "cell_type": "markdown",
   "id": "c54c2157",
   "metadata": {},
   "source": [
    "#### Q2. Why threading module used? Write the use of the following functions.\n",
    " * activeCount()\n",
    " * currentThread()\n",
    " * enumerate()"
   ]
  },
  {
   "cell_type": "markdown",
   "id": "6ed582e6",
   "metadata": {},
   "source": [
    "The threading module in Python is used to handle threads in a program. It provides a way to create and manage threads, allowing for concurrent execution of tasks within a single process.\n",
    "\n",
    "Here's the use of the following functions in the threading module:\n",
    "\n",
    " * activeCount(): This function returns the number of thread objects that are currently active in the program. An active thread is one that has been started but has not yet finished.\n",
    "\n",
    " * currentThread(): This function returns a reference to the current thread object. The current thread is the thread from which the function is called.\n",
    "\n",
    " * enumerate(): This function returns a list of all thread objects that are currently active in the program. The list includes the current thread object as well as any other active thread objects. The returned list can be used to iterate over all active threads and perform operations on them."
   ]
  },
  {
   "cell_type": "markdown",
   "id": "c09b52eb",
   "metadata": {},
   "source": [
    "#### Q3. Explain the following functions.\n",
    " * run()\n",
    " * start()\n",
    " * join()\n",
    " * isAlive()"
   ]
  },
  {
   "cell_type": "markdown",
   "id": "e0657aba",
   "metadata": {},
   "source": [
    "Here are the explanations of the following functions in the Thread class of the threading module:\n",
    "\n",
    " * run(): This method represents the code that will be executed when a thread is started. You can define the code to be executed within the run() method by subclassing the Thread class and overriding the run() method.\n",
    "\n",
    " * start(): This method is used to start a new thread of execution. When this method is called, a new thread is created and the run() method is executed within that thread. The start() method should only be called once for each thread object. If you try to call it more than once, you'll get a RuntimeError.\n",
    "\n",
    " * join(): This method is used to wait for a thread to finish. When this method is called on a thread object, the program blocks and waits until the thread has finished executing. This is useful when you need to wait for a thread to complete before continuing with the main program.\n",
    "\n",
    " * isAlive(): This method is used to check if a thread is still running. When this method is called on a thread object, it returns True if the thread is still running, and False if it has finished executing. This method can be useful when you need to check the status of a thread and take appropriate action based on whether it is still running or not."
   ]
  },
  {
   "cell_type": "markdown",
   "id": "a5c4cc0d",
   "metadata": {},
   "source": [
    "#### Q4. Write a python program to create two threads. Thread one must print the list of squares and thread two must print the list of cubes."
   ]
  },
  {
   "cell_type": "code",
   "execution_count": 5,
   "id": "db602f88",
   "metadata": {},
   "outputs": [
    {
     "name": "stdout",
     "output_type": "stream",
     "text": [
      "1 squared is 1\n",
      "2 squared is 4\n",
      "3 squared is 9\n",
      "4 squared is 16\n",
      "5 squared is 25\n",
      "6 squared is 36\n",
      "7 squared is 49\n",
      "8 squared is 64\n",
      "9 squared is 81\n",
      "10 squared is 100\n",
      "1 cubed is 1\n",
      "2 cubed is 8\n",
      "3 cubed is 27\n",
      "4 cubed is 64\n",
      "5 cubed is 125\n",
      "6 cubed is 216\n",
      "7 cubed is 343\n",
      "8 cubed is 512\n",
      "9 cubed is 729\n",
      "10 cubed is 1000\n"
     ]
    }
   ],
   "source": [
    "import threading\n",
    "\n",
    "def print_squares():\n",
    "    for i in range(1, 11):\n",
    "        print(f\"{i} squared is {i**2}\")\n",
    "\n",
    "def print_cubes():\n",
    "    for i in range(1, 11):\n",
    "        print(f\"{i} cubed is {i**3}\")\n",
    "\n",
    "# Create thread objects for each function\n",
    "t1 = threading.Thread(target=print_squares)\n",
    "t2 = threading.Thread(target=print_cubes)\n",
    "\n",
    "# Start both threads\n",
    "t1.start()\n",
    "t2.start()\n"
   ]
  },
  {
   "cell_type": "markdown",
   "id": "7d02afab",
   "metadata": {},
   "source": [
    "#### Q5. State advantages and disadvantages of multithreading."
   ]
  },
  {
   "cell_type": "markdown",
   "id": "3c566d31",
   "metadata": {},
   "source": [
    "Multithreading has several advantages and disadvantages, as outlined below:\n",
    "\n",
    "Advantages of Multithreading:\n",
    "\n",
    " * Increased performance: Multithreading can lead to increased performance by allowing a program to perform multiple tasks concurrently. This can be particularly useful in programs that need to perform I/O operations or that have multiple CPU-intensive tasks to perform.\n",
    "\n",
    " * Resource sharing: Threads in a program can share resources such as memory and CPU time, which can lead to more efficient use of system resources.\n",
    "\n",
    "Disadvantages of Multithreading:\n",
    "\n",
    " * Complexity: Multithreading can make a program more complex, particularly when dealing with shared resources. Synchronizing access to shared resources can be challenging and can lead to issues such as deadlocks and race conditions.\n",
    "\n",
    " * Debugging: Multithreaded programs can be more difficult to debug than single-threaded programs, particularly when dealing with synchronization issues."
   ]
  },
  {
   "cell_type": "markdown",
   "id": "f3356ef9",
   "metadata": {},
   "source": [
    "#### Q6. Explain deadlocks and race conditions."
   ]
  },
  {
   "cell_type": "markdown",
   "id": "345c0dde",
   "metadata": {},
   "source": [
    "Deadlocks and race conditions are two common problems that can occur in multithreaded programs. Here's a brief explanation of both:\n",
    "\n",
    " * Deadlocks: A deadlock occurs when two or more threads are blocked, waiting for each other to release a resource that they hold. For example, suppose Thread A has acquired Resource 1 and Thread B has acquired Resource 2. If Thread A then tries to acquire Resource 2 and Thread B tries to acquire Resource 1, a deadlock can occur because neither thread can proceed until the other releases the resource it is holding. Deadlocks can be difficult to detect and resolve, particularly in complex multithreaded programs.\n",
    "\n",
    " * Race conditions: A race condition occurs when two or more threads access a shared resource or variable in an unexpected way, resulting in unpredictable behavior. For example, suppose Thread A and Thread B both read the value of a shared variable X, and then both update the value of X based on that read value. Depending on the timing of the reads and writes, the final value of X may be different from what either thread intended. Race conditions can be particularly difficult to detect and reproduce, as they depend on the timing of events within the program."
   ]
  }
 ],
 "metadata": {
  "kernelspec": {
   "display_name": "Python 3",
   "language": "python",
   "name": "python3"
  },
  "language_info": {
   "codemirror_mode": {
    "name": "ipython",
    "version": 3
   },
   "file_extension": ".py",
   "mimetype": "text/x-python",
   "name": "python",
   "nbconvert_exporter": "python",
   "pygments_lexer": "ipython3",
   "version": "3.8.8"
  }
 },
 "nbformat": 4,
 "nbformat_minor": 5
}
